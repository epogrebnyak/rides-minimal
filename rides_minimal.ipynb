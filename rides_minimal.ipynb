{
  "nbformat": 4,
  "nbformat_minor": 0,
  "metadata": {
    "colab": {
      "name": "rides_minimal.ipynb",
      "provenance": [],
      "collapsed_sections": [],
      "toc_visible": true,
      "include_colab_link": true
    },
    "kernelspec": {
      "name": "python3",
      "display_name": "Python 3"
    }
  },
  "cells": [
    {
      "cell_type": "markdown",
      "metadata": {
        "id": "view-in-github",
        "colab_type": "text"
      },
      "source": [
        "<a href=\"https://colab.research.google.com/github/epogrebnyak/rides-minimal/blob/master/rides_minimal.ipynb\" target=\"_parent\"><img src=\"https://colab.research.google.com/assets/colab-badge.svg\" alt=\"Open In Colab\"/></a>"
      ]
    },
    {
      "cell_type": "code",
      "metadata": {
        "id": "2JUJHFFz8tWZ",
        "colab_type": "code",
        "colab": {}
      },
      "source": [
        "import pathlib\n",
        "from dataclasses import dataclass\n",
        "from typing import List, Tuple, Generator, Callable\n",
        "\n",
        "import requests\n",
        "import pandas as pd\n",
        "import numpy as np\n",
        "\n",
        "from scipy.spatial.distance import cdist\n",
        "\n",
        "pd.set_option(\"mode.chained_assignment\", None)"
      ],
      "execution_count": 0,
      "outputs": []
    },
    {
      "cell_type": "markdown",
      "metadata": {
        "colab_type": "text",
        "id": "kzOzqwDxGhwM"
      },
      "source": [
        "# Подготовка данных"
      ]
    },
    {
      "cell_type": "code",
      "metadata": {
        "id": "f18VfozO8tW6",
        "colab_type": "code",
        "colab": {}
      },
      "source": [
        "sample_data_url = \"https://ridesample.s3.eu-central-1.amazonaws.com/one_day.zip\"\n",
        "sample_data_filename = \"one_day.zip\""
      ],
      "execution_count": 0,
      "outputs": []
    },
    {
      "cell_type": "code",
      "metadata": {
        "id": "jl4LMiDa8tXH",
        "colab_type": "code",
        "colab": {}
      },
      "source": [
        "# Сохраним файл с данными локально\n",
        "file = pathlib.Path(sample_data_filename)\n",
        "if not file.exists():\n",
        "  r = requests.get(sample_data_url)\n",
        "  file.write_bytes(r.content)"
      ],
      "execution_count": 0,
      "outputs": []
    },
    {
      "cell_type": "code",
      "metadata": {
        "id": "10Y4XlW88tXT",
        "colab_type": "code",
        "colab": {}
      },
      "source": [
        "# Функции для импорта данных\n",
        "\n",
        "def get_dataframe(filename=sample_data_filename):\n",
        "    df = pd.read_csv(filename, parse_dates=[\"time\"])\n",
        "    return check_dataframe(df)\n",
        "\n",
        "def check_dataframe(df: pd.DataFrame):\n",
        "    required_columns = set([\"car\", \"lat\", \"lon\", \"time\"])\n",
        "    missing_columns = required_columns - set(df.columns)\n",
        "    if missing_columns:\n",
        "        raise ValueError(f\"Missing from {df.head()}: {missing_columns}\")\n",
        "    return df   "
      ],
      "execution_count": 0,
      "outputs": []
    },
    {
      "cell_type": "markdown",
      "metadata": {
        "colab_type": "text",
        "id": "p3sF5QvGGppy"
      },
      "source": [
        "# Вспомогательные функции"
      ]
    },
    {
      "cell_type": "markdown",
      "metadata": {
        "colab_type": "text",
        "id": "jbVrRpeiI-Bx"
      },
      "source": [
        "## Комбинации из n по 2"
      ]
    },
    {
      "cell_type": "code",
      "metadata": {
        "id": "gKHqFndj8tXk",
        "colab_type": "code",
        "colab": {}
      },
      "source": [
        "from itertools import combinations\n",
        "\n",
        "def get_combinations(n: int) -> List[Tuple[int, int]]:\n",
        "    \"\"\"Выбор комбинаций из n по 2.\"\"\"\n",
        "    return [(i, j) for i, j in combinations(range(n), 2)]\n",
        "\n",
        "def count_combinations(n: int) -> int:\n",
        "    return len(list(get_combinations(n)))"
      ],
      "execution_count": 0,
      "outputs": []
    },
    {
      "cell_type": "markdown",
      "metadata": {
        "colab_type": "text",
        "id": "s-FwrJbUJDAj"
      },
      "source": [
        "## Функции расстояний"
      ]
    },
    {
      "cell_type": "code",
      "metadata": {
        "id": "k-2qmECr8tXx",
        "colab_type": "code",
        "colab": {}
      },
      "source": [
        "from geopy.distance import great_circle\n",
        "\n",
        "def distance_km(a: tuple, b: tuple):\n",
        "    # great_circle() менее точен, но быстрее чем geopy.distance.distance\n",
        "    # https://geopy.readthedocs.io/en/stable/#module-geopy.distance\n",
        "    return great_circle(a, b).km\n",
        "\n",
        "Coord = Tuple[float, float]\n",
        "\n",
        "# используется с distance_delta\n",
        "def safe_distance(a: Coord, b: Coord) -> float:\n",
        "  if not isinstance(b, tuple): # catch NaN\n",
        "    return 0\n",
        "  if a == b:\n",
        "    return 0  \n",
        "  return round(distance_km(a, b), 9)  \n",
        "\n",
        "# используется с cdist\n",
        "def safe_distance_2(a: Coord, b: Coord) -> float:    \n",
        "    x1, y1 = a\n",
        "    x2, y2 = b\n",
        "    if np.isnan(x1) or np.isnan(x2):\n",
        "        return np.nan\n",
        "    else:\n",
        "        return round(distance_km(a, b), 9)\n",
        "\n",
        "def distance_delta(df: pd.DataFrame) -> pd.DataFrame:\n",
        "    return (df.assign(prev_coord=lambda df: df.coord.shift(1))\n",
        "              .apply(lambda df: safe_distance(df.coord, df.prev_coord), axis=1)\n",
        "              )"
      ],
      "execution_count": 0,
      "outputs": []
    },
    {
      "cell_type": "code",
      "metadata": {
        "id": "Fb93Cdex8tX8",
        "colab_type": "code",
        "colab": {}
      },
      "source": [
        "# test\n",
        "ex = pd.DataFrame({'coord': \n",
        " {0: (54.683064, 20.497738),\n",
        "  1: (54.683064, 20.497738),\n",
        "  2: (54.683048, 20.49774),\n",
        "  3: (54.683048, 20.49774),\n",
        "  4: (54.68299200000001, 20.49775)}})\n",
        "assert distance_delta(ex).to_dict() == {0: 0.0, 1: 0.0, 2: 0.00178376, 3:0, 4: 0.006260016}"
      ],
      "execution_count": 0,
      "outputs": []
    },
    {
      "cell_type": "markdown",
      "metadata": {
        "colab_type": "text",
        "id": "r6u1hZFSX9Xv"
      },
      "source": [
        "## Кэширование длинных расчетов\n"
      ]
    },
    {
      "cell_type": "code",
      "metadata": {
        "id": "JFLMzlR48tYG",
        "colab_type": "code",
        "colab": {}
      },
      "source": [
        "def from_cache(filename, getter):\n",
        "  import json, os  \n",
        "  if os.path.exists(filename):\n",
        "    with open(filename, \"r\") as f:\n",
        "        return json.load(f)\n",
        "  else:     \n",
        "    content = getter()\n",
        "    with open(filename, \"w\") as f:\n",
        "        json.dump(content, f)\n",
        "    return content"
      ],
      "execution_count": 0,
      "outputs": []
    },
    {
      "cell_type": "markdown",
      "metadata": {
        "colab_type": "text",
        "id": "9rYi2tbw2HWt"
      },
      "source": [
        "# Поиск сходимости"
      ]
    },
    {
      "cell_type": "markdown",
      "metadata": {
        "colab_type": "text",
        "id": "h9NBjHRpJSU8"
      },
      "source": [
        "## Базовая работа с треком"
      ]
    },
    {
      "cell_type": "code",
      "metadata": {
        "id": "TQrMY1vv8tYU",
        "colab_type": "code",
        "colab": {}
      },
      "source": [
        "class Route(pd.DataFrame):\n",
        "    pass\n",
        "\n",
        "def make_route(df: pd.DataFrame) -> Route:\n",
        "    res = df[[\"time\", \"lat\", \"lon\"]]\n",
        "    res[\"coord\"] = coord(df)\n",
        "    return res.sort_values(\"time\")\n",
        "\n",
        "def make_route_full(df: pd.DataFrame) -> Route:\n",
        "    res = make_route(df)\n",
        "    # add time and dist deltas (slow)\n",
        "    res['milage'] = milage_acc(res)\n",
        "    res['duration'] = duration_acc(res)\n",
        "    return res\n",
        "\n",
        "def get_cars_and_routes(df: pd.DataFrame) -> (List[str], List[Route]):\n",
        "    cars = []\n",
        "    routes = []\n",
        "    df[\"date\"] = df[\"time\"].apply(lambda x: x.date())\n",
        "    for date in df.date.unique():\n",
        "        for car in df.car.unique():\n",
        "            ix = (df.car == car) & (df.date == date)\n",
        "            cars.append(car)\n",
        "            route = make_route(df[ix])\n",
        "            routes.append(route)\n",
        "    return cars, routes     \n",
        "\n",
        "\n",
        "def coord(df: pd.DataFrame):\n",
        "    return list(zip(df.lat, df.lon))\n",
        "\n",
        "\n",
        "def seconds(series: pd.Series) -> pd.Series:\n",
        "    return series.apply(lambda x: x.total_seconds())\n",
        "\n",
        "\n",
        "def duration_acc(df: pd.DataFrame) -> pd.DataFrame:\n",
        "    return seconds(df.time - df.time.iloc[0]) / 60\n",
        "\n",
        "\n",
        "def time_deltas(df: pd.DataFrame) -> pd.DataFrame:\n",
        "    return seconds(df.time.diff())\n",
        "\n",
        "\n",
        "def milage_acc(df: pd.DataFrame) -> pd.DataFrame:\n",
        "    return distance_delta(df).cumsum().fillna(0)\n",
        "\n",
        "\n",
        "def milage(route) -> float:\n",
        "    return round(milage_acc(route).iloc[-1], 2)\n",
        "\n",
        "\n",
        "def points(route_df: Route) -> np.ndarray:\n",
        "    return np.array(route_df.coord.to_list())\n",
        "\n",
        "\n",
        "def date(route):\n",
        "    return route.iloc[0].time.date()\n",
        "\n",
        "\n",
        "def start_time(route):\n",
        "    return route.iloc[0].time\n",
        "\n",
        "\n",
        "def end_time(route):\n",
        "    return route.iloc[-1].time"
      ],
      "execution_count": 0,
      "outputs": []
    },
    {
      "cell_type": "code",
      "metadata": {
        "id": "0tcpyWxN8tYd",
        "colab_type": "code",
        "colab": {}
      },
      "source": [
        "assert milage_acc(ex).to_dict() == {0: 0.0, 1: 0.0, 2: 0.00178376, 3: 0.00178376, 4: 0.008043776}"
      ],
      "execution_count": 0,
      "outputs": []
    },
    {
      "cell_type": "markdown",
      "metadata": {
        "colab_type": "text",
        "id": "1eAmqT9DJfiy"
      },
      "source": [
        "##  Функции апроксимации трека\n",
        "\n",
        "- [x] по времени в пути (инкремент, количество сегментов)\n",
        "- [x] по расстоянию (инкремент, количество сегментов)\n",
        "- [ ] по астрономическому времени (есть в ноутбке `rides2`)\n",
        "- [ ] по остановкам (есть в \"тяжелом\" алгоритме)"
      ]
    },
    {
      "cell_type": "code",
      "metadata": {
        "id": "gBigQA3t8tYn",
        "colab_type": "code",
        "colab": {}
      },
      "source": [
        "def growing_index(xs, step):\n",
        "    xs = [x for x in xs]\n",
        "    result = [0]  # will include start point\n",
        "    current = xs[0]\n",
        "    for i, x in enumerate(xs):\n",
        "        accumulated = x - current\n",
        "        if accumulated >= step:\n",
        "            result.append(i)\n",
        "            accumulated = 0\n",
        "            current = x\n",
        "    n = len(xs) - 1\n",
        "    if result[-1] != n: # will include end point\n",
        "        result.append(n)\n",
        "    return result\n",
        "\n",
        "\n",
        "def time_increment_(minutes: int, route: Route):\n",
        "    xs = duration_acc(route)\n",
        "    ix = growing_index(xs, minutes)\n",
        "    return route.iloc[ix]\n",
        "\n",
        "\n",
        "def time_increment(minutes):\n",
        "    return lambda route: time_increment_(minutes, route)\n",
        "\n",
        "\n",
        "def distance_increment_(step_km: float, route: Route):\n",
        "    xs = milage_acc(route)\n",
        "    ix = growing_index(xs, step_km)\n",
        "    return route.iloc[ix]\n",
        "\n",
        "\n",
        "def distance_increment(step_km: float):\n",
        "    return lambda route: distance_increment_(step_km, route)\n",
        "\n",
        "\n",
        "def find_index_quantile(xs: List, q: float) -> int:\n",
        "    if q == 0:\n",
        "        return 0\n",
        "    if q == 1:\n",
        "        return -1\n",
        "    return np.searchsorted(xs, v=np.quantile(xs, q), side=\"left\")\n",
        "\n",
        "\n",
        "def find_index(xs: List, n_segments: int) -> List[int]:\n",
        "    qs = np.linspace(0, 1, n_segments + 1)\n",
        "    return [find_index_quantile(xs, q) for q in qs]\n",
        "\n",
        "\n",
        "def n_segments_by_distance_(n: int, route: Route):\n",
        "    xs = milage_acc(route)\n",
        "    ix = find_index(xs, n)\n",
        "    return route.iloc[ix]\n",
        "\n",
        "\n",
        "def n_segments_by_distance(n: int):\n",
        "    return lambda route: n_segments_by_distance_(n, route)\n",
        "\n",
        "\n",
        "def n_segments_by_time_(n: int, route: Route):\n",
        "    xs = duration_acc(route)\n",
        "    ix = find_index(xs, n)\n",
        "    return route.iloc[ix]\n",
        "\n",
        "\n",
        "def n_segments_by_time(n: int):\n",
        "    return lambda route: n_segments_by_time_(n, route)\n"
      ],
      "execution_count": 0,
      "outputs": []
    },
    {
      "cell_type": "code",
      "metadata": {
        "id": "zmTjqxVB8tYy",
        "colab_type": "code",
        "colab": {}
      },
      "source": [
        "assert n_segments_by_distance(2)(ex).index.to_list() == [0, 2, 4]"
      ],
      "execution_count": 0,
      "outputs": []
    },
    {
      "cell_type": "markdown",
      "metadata": {
        "colab_type": "text",
        "id": "oUA80kndJ8nL"
      },
      "source": [
        "## Матрица расстояний между точками двух треков\n",
        "\n"
      ]
    },
    {
      "cell_type": "code",
      "metadata": {
        "id": "kZvPCgRK8tY8",
        "colab_type": "code",
        "colab": {}
      },
      "source": [
        "def proximity(r1, r2):\n",
        "    mat = cdist(points(r1), points(r2), safe_distance_2)\n",
        "    return Proximity(mat)\n",
        "\n",
        "#def report_proximity(route1: Route, route2: Route, radius_km: float):\n",
        "#    p = proximity(route1, route2)\n",
        "#    return p.report(radius_km)\n",
        "\n",
        "@dataclass\n",
        "class Proximity:\n",
        "    \"\"\"Матрица расстояний между двумя треками.\"\"\"\n",
        "\n",
        "    mat: np.ndarray\n",
        "\n",
        "    def min(self):\n",
        "        \"\"\"\n",
        "    Минимиальное расстояние между всеми точками двух треков.\n",
        "    \"\"\"\n",
        "        return round(np.nanmin(self.mat), 3)\n",
        "\n",
        "    def max(self):\n",
        "        \"\"\"\n",
        "    Максимальное расстояние между всеми точками двух треков.\n",
        "    \"\"\"\n",
        "        return round(np.amax(self.mat), 3)\n",
        "\n",
        "    def side_min(self, axis: int):\n",
        "        # 1 is to search by columns - applies to searching minima for 1st route\n",
        "        # 0 is to search by rows - applies to searching minima for 2nd route\n",
        "        x = np.nanmin(self.mat, axis)\n",
        "        return x[~np.isnan(x)]\n",
        "\n",
        "    def coverages(self):\n",
        "        return Coverage(self.side_min(1)), Coverage(self.side_min(0))\n",
        "\n",
        "    def report(self, search_radius: float):\n",
        "      c1, c2 = self.coverages()\n",
        "      return dict(\n",
        "                min_dist=self.min(),\n",
        "                max_dist=self.max(),\n",
        "                cov_1=c1.coverage(search_radius),\n",
        "                cov_2=c2.coverage(search_radius),\n",
        "            )    \n",
        "\n",
        "\n",
        "@dataclass\n",
        "class Coverage:\n",
        "    \"\"\"Для каждой точки выбранного трека посчитано \n",
        "       минимальное из расстояний до точек другого трека.\n",
        "       \n",
        "       Если в треке 10 точек, то минимальных расстояний \n",
        "       до другого трека будет 10.\n",
        "       \n",
        "       Мы выбираем те из расстояний, которые меньше заданного \n",
        "       порога(радиуса) сближения.\n",
        "              \n",
        "       Предположим в треке 10 точек и минимальные расстояния до \n",
        "       фигуры второго трека такие:\n",
        "       \n",
        "       >> mins = [21.2, 22.6, 17.6, 7.7, 2.7, 0.3, 0.4, 0.6, 0.2, 3.1]\n",
        "       \n",
        "       Тогда \"сблизившимися\" с другим треков при радиусе точности 1 \n",
        "       мы считаем 4 точки:\n",
        "       \n",
        "       >> radius = 1           \n",
        "       >> [x for x in mins if x < radius]\n",
        "       [0.3, 0.4, 0.6, 0.2]\n",
        "       \n",
        "       Коэффциент перекрытия составляет 4/10 = 40%. \n",
        "       \n",
        "       Он показывает, что 40% точек данного трека\n",
        "       находились на расстоянии не более чем *radius*\n",
        "       от какой-то точки другого трека.\n",
        "       \n",
        "       Замечания:\n",
        "       \n",
        "       - Коэффциент перекрытия (КП) может интепретироваться как \n",
        "         часть пути, если отрезки между точками равные. \n",
        "         \n",
        "       - Значение коэффциента перекрытия зависит от точности \n",
        "         апроксимации трека и радиуса.       \n",
        "         \n",
        "       - Треки могут иметь сложную форму, высокий КП не гарантирует,\n",
        "         что доставку по одному треку можно переложить на другой трек.\n",
        "         Но при низких КП это заведомо невозможно.\n",
        "         \n",
        "       - Нулевой КП - машины ездили в разных местах.  \n",
        "         \n",
        "    \"\"\"\n",
        "\n",
        "    mins: np.ndarray\n",
        "\n",
        "    def in_proximity(self, radius: float):\n",
        "        \"\"\"\n",
        "           Количество точек с минимальными расстояниями до другого трека.\n",
        "           Минималаьное расстояние - это расстояние, величина которого\n",
        "           меньше заданного радиуса сближения.\n",
        "        \"\"\"\n",
        "        return (self.mins < radius).sum() #self.mins[self.mins < radius]\n",
        "\n",
        "    def coverage(self, radius: float):\n",
        "        \"\"\"\n",
        "           Коэффициент перекрытия - доля трека, которая находится \n",
        "           на расстоянии не более заданного радиуса от другого трека.\n",
        "        \"\"\"\n",
        "        return round(self.in_proximity(radius) / len(self.mins), 2)"
      ],
      "execution_count": 0,
      "outputs": []
    },
    {
      "cell_type": "markdown",
      "metadata": {
        "colab_type": "text",
        "id": "bHAhtNLHKZ-M"
      },
      "source": [
        "## Функции поиска сходимости\n",
        "\n",
        "\n",
        "\n"
      ]
    },
    {
      "cell_type": "code",
      "metadata": {
        "id": "SvCsDyRm8tZJ",
        "colab_type": "code",
        "colab": {}
      },
      "source": [
        "def inspect(routes, simplify_with=distance_increment):\n",
        "  def pair(i, j, search_radius, *arg, **kwarg):\n",
        "      f = simplify_with(*arg, **kwarg)\n",
        "      r1 = f(routes[i])\n",
        "      r2 = f(routes[j])\n",
        "      return proximity(r1, r2).report(search_radius)\n",
        "  return pair\n",
        "\n",
        "def search(\n",
        "    routes: List[Route],\n",
        "    simplify_with: Callable,\n",
        "    search_radius_1: float,\n",
        "    refine_with = Callable,\n",
        "    search_radius_2 = float,\n",
        "    limit=None,\n",
        "):\n",
        "\n",
        "    # Урезаем для демо-примеров\n",
        "    if limit:\n",
        "        routes = routes[0:limit]\n",
        "        print(f\"Trimmed dataset to {limit} pairs\")\n",
        "\n",
        "    m = len(routes)\n",
        "    print(f\"{count_combinations(m)} pairs are possible for {m} routes\")\n",
        "\n",
        "    # Грубая апроксимация треков    \n",
        "    print(f\"Simplified {m} routes\")\n",
        "    rough_routes = [simplify_with(route) for route in routes]\n",
        "\n",
        "    def prox(i, j):  # замыкание для удобного доступа к routes\n",
        "        return proximity(rough_routes[i], rough_routes[j])\n",
        "\n",
        "    # Выбор пересекающися пар\n",
        "    pairs = [(i,j) for (i,j) in get_combinations(m) \n",
        "              if prox(i,j).min() < search_radius_1]\n",
        "    print(f\"Found {len(pairs)} pairs of intersecting routes\")\n",
        "\n",
        "    # Уточняем апроксимацию треков   \n",
        "    def members(pairs):\n",
        "      from itertools import chain\n",
        "      return set(chain.from_iterable(pairs))\n",
        "\n",
        "    refined_routes = list(range(m)) \n",
        "    for k, i in enumerate(members(pairs)):\n",
        "        refined_routes[i] = refine_with(routes[i])\n",
        "    print(f\"Made better approximation of {k} routes\")\n",
        "    print(\"Calculating distances between routes and reporting...\")\n",
        "\n",
        "    # Считаем перекрытие треков в пересекающися парах\n",
        "    from tqdm import tqdm\n",
        "    result = []\n",
        "    for (i, j) in tqdm(pairs):\n",
        "        p = proximity(refined_routes[i], refined_routes[j])\n",
        "        if p.min() < search_radius_1:\n",
        "            d = dict(\n",
        "                id_1=i, \n",
        "                id_2=j,\n",
        "                **p.report(search_radius_2)\n",
        "            )\n",
        "            result.append(d)\n",
        "    return result"
      ],
      "execution_count": 0,
      "outputs": []
    },
    {
      "cell_type": "markdown",
      "metadata": {
        "colab_type": "text",
        "id": "nA2yojipG3cD"
      },
      "source": [
        "## Примеры"
      ]
    },
    {
      "cell_type": "code",
      "metadata": {
        "id": "wp6IfYCT8tZS",
        "colab_type": "code",
        "colab": {}
      },
      "source": [
        "df = get_dataframe(sample_data_filename)  # Получаем исходные данные\n",
        "cars, routes = get_cars_and_routes(df)    # Преобразуем датафрейм в список поедок\n",
        "assert len(cars) == len(routes) == 49"
      ],
      "execution_count": 0,
      "outputs": []
    },
    {
      "cell_type": "code",
      "metadata": {
        "id": "X1-rLNH38tZa",
        "colab_type": "code",
        "colab": {}
      },
      "source": [
        "# Пробег по поездкам\n",
        "milages = from_cache(\"milage.json\", lambda: [milage(r) for r in routes])  \n",
        "assert milages[0] == 72.38"
      ],
      "execution_count": 0,
      "outputs": []
    },
    {
      "cell_type": "markdown",
      "metadata": {
        "id": "3TOXvFJz8tZh",
        "colab_type": "text"
      },
      "source": [
        "### Поиск близких пар"
      ]
    },
    {
      "cell_type": "code",
      "metadata": {
        "id": "ezlDJLfv8tZi",
        "colab_type": "code",
        "outputId": "e111c10f-aad8-40de-9902-24b4cf5837ab",
        "colab": {
          "base_uri": "https://localhost:8080/",
          "height": 130
        }
      },
      "source": [
        "# Расчет попарных характеристик поездок\n",
        "\n",
        "def default_search(routes: List[Route], limit=None):\n",
        "   return search( \n",
        "    routes,\n",
        "    simplify_with = n_segments_by_distance(n=10),\n",
        "    search_radius_1 = 10,\n",
        "    refine_with = distance_increment(step_km=2.5),\n",
        "    search_radius_2 = 2.5 * 1.2,\n",
        "    limit=limit,\n",
        ")   \n",
        "result_dicts = default_search(routes, limit=None)"
      ],
      "execution_count": 0,
      "outputs": [
        {
          "output_type": "stream",
          "text": [
            "1176 pairs are possible for 49 routes\n",
            "Simplified 49 routes\n",
            "Found 667 pairs of intersecting routes\n"
          ],
          "name": "stdout"
        },
        {
          "output_type": "stream",
          "text": [
            "  0%|          | 3/667 [00:00<00:33, 19.65it/s]"
          ],
          "name": "stderr"
        },
        {
          "output_type": "stream",
          "text": [
            "Made better approximation of 48 routes\n",
            "Calculating distances between routes and reporting...\n"
          ],
          "name": "stdout"
        },
        {
          "output_type": "stream",
          "text": [
            "100%|██████████| 667/667 [01:00<00:00, 10.99it/s]\n"
          ],
          "name": "stderr"
        }
      ]
    },
    {
      "cell_type": "code",
      "metadata": {
        "id": "pCrctVC18tZr",
        "colab_type": "code",
        "outputId": "7ef879a0-c7e5-4247-82c7-e6280124e96a",
        "colab": {
          "base_uri": "https://localhost:8080/",
          "height": 677
        }
      },
      "source": [
        "  # Формируем выгрузку данных в csv\n",
        "  \n",
        "def overlap(df):\n",
        "    return ((df.cov_1*df.len_1 + df.cov_2*df.len_2)\n",
        "               .divide(df.len_1+df.len_2)\n",
        "               .round(2)\n",
        "               )\n",
        "\n",
        "def add_vars(df, km = lambda i: milages[i]):\n",
        "    return (df.assign(cov=lambda df: df.cov_1 + df.cov_2)\n",
        "              .assign(len_1=lambda df: df.id_1.apply(km))\n",
        "              .assign(len_2=lambda df: df.id_2.apply(km)) \n",
        "              .assign(op=overlap)\n",
        "      )\n",
        "\n",
        "result_df = (\n",
        "      add_vars(pd.DataFrame(result_dicts))\n",
        "      .sort_values(\"cov\", ascending=False)\n",
        "      .head(20)\n",
        "      .reset_index(drop=True)\n",
        "  )  \n",
        "result_df.to_csv(\"output.csv\", index=None)\n",
        "result_df"
      ],
      "execution_count": 0,
      "outputs": [
        {
          "output_type": "execute_result",
          "data": {
            "text/html": [
              "<div>\n",
              "<style scoped>\n",
              "    .dataframe tbody tr th:only-of-type {\n",
              "        vertical-align: middle;\n",
              "    }\n",
              "\n",
              "    .dataframe tbody tr th {\n",
              "        vertical-align: top;\n",
              "    }\n",
              "\n",
              "    .dataframe thead th {\n",
              "        text-align: right;\n",
              "    }\n",
              "</style>\n",
              "<table border=\"1\" class=\"dataframe\">\n",
              "  <thead>\n",
              "    <tr style=\"text-align: right;\">\n",
              "      <th></th>\n",
              "      <th>id_1</th>\n",
              "      <th>id_2</th>\n",
              "      <th>min_dist</th>\n",
              "      <th>max_dist</th>\n",
              "      <th>cov_1</th>\n",
              "      <th>cov_2</th>\n",
              "      <th>cov</th>\n",
              "      <th>len_1</th>\n",
              "      <th>len_2</th>\n",
              "      <th>op</th>\n",
              "    </tr>\n",
              "  </thead>\n",
              "  <tbody>\n",
              "    <tr>\n",
              "      <th>0</th>\n",
              "      <td>24</td>\n",
              "      <td>39</td>\n",
              "      <td>0.014</td>\n",
              "      <td>87.724</td>\n",
              "      <td>1.00</td>\n",
              "      <td>1.00</td>\n",
              "      <td>2.00</td>\n",
              "      <td>207.66</td>\n",
              "      <td>193.86</td>\n",
              "      <td>1.00</td>\n",
              "    </tr>\n",
              "    <tr>\n",
              "      <th>1</th>\n",
              "      <td>4</td>\n",
              "      <td>42</td>\n",
              "      <td>0.018</td>\n",
              "      <td>9.505</td>\n",
              "      <td>1.00</td>\n",
              "      <td>1.00</td>\n",
              "      <td>2.00</td>\n",
              "      <td>88.24</td>\n",
              "      <td>71.92</td>\n",
              "      <td>1.00</td>\n",
              "    </tr>\n",
              "    <tr>\n",
              "      <th>2</th>\n",
              "      <td>19</td>\n",
              "      <td>39</td>\n",
              "      <td>0.015</td>\n",
              "      <td>87.049</td>\n",
              "      <td>1.00</td>\n",
              "      <td>1.00</td>\n",
              "      <td>2.00</td>\n",
              "      <td>234.98</td>\n",
              "      <td>193.86</td>\n",
              "      <td>1.00</td>\n",
              "    </tr>\n",
              "    <tr>\n",
              "      <th>3</th>\n",
              "      <td>23</td>\n",
              "      <td>32</td>\n",
              "      <td>0.003</td>\n",
              "      <td>5.311</td>\n",
              "      <td>1.00</td>\n",
              "      <td>1.00</td>\n",
              "      <td>2.00</td>\n",
              "      <td>25.74</td>\n",
              "      <td>48.77</td>\n",
              "      <td>1.00</td>\n",
              "    </tr>\n",
              "    <tr>\n",
              "      <th>4</th>\n",
              "      <td>19</td>\n",
              "      <td>24</td>\n",
              "      <td>0.017</td>\n",
              "      <td>87.453</td>\n",
              "      <td>0.99</td>\n",
              "      <td>1.00</td>\n",
              "      <td>1.99</td>\n",
              "      <td>234.98</td>\n",
              "      <td>207.66</td>\n",
              "      <td>0.99</td>\n",
              "    </tr>\n",
              "    <tr>\n",
              "      <th>5</th>\n",
              "      <td>4</td>\n",
              "      <td>17</td>\n",
              "      <td>0.065</td>\n",
              "      <td>9.437</td>\n",
              "      <td>1.00</td>\n",
              "      <td>0.97</td>\n",
              "      <td>1.97</td>\n",
              "      <td>88.24</td>\n",
              "      <td>78.81</td>\n",
              "      <td>0.99</td>\n",
              "    </tr>\n",
              "    <tr>\n",
              "      <th>6</th>\n",
              "      <td>17</td>\n",
              "      <td>42</td>\n",
              "      <td>0.065</td>\n",
              "      <td>9.527</td>\n",
              "      <td>0.97</td>\n",
              "      <td>1.00</td>\n",
              "      <td>1.97</td>\n",
              "      <td>78.81</td>\n",
              "      <td>71.92</td>\n",
              "      <td>0.98</td>\n",
              "    </tr>\n",
              "    <tr>\n",
              "      <th>7</th>\n",
              "      <td>10</td>\n",
              "      <td>30</td>\n",
              "      <td>0.048</td>\n",
              "      <td>9.269</td>\n",
              "      <td>1.00</td>\n",
              "      <td>0.96</td>\n",
              "      <td>1.96</td>\n",
              "      <td>40.66</td>\n",
              "      <td>62.88</td>\n",
              "      <td>0.98</td>\n",
              "    </tr>\n",
              "    <tr>\n",
              "      <th>8</th>\n",
              "      <td>32</td>\n",
              "      <td>46</td>\n",
              "      <td>0.006</td>\n",
              "      <td>6.274</td>\n",
              "      <td>0.95</td>\n",
              "      <td>1.00</td>\n",
              "      <td>1.95</td>\n",
              "      <td>48.77</td>\n",
              "      <td>27.98</td>\n",
              "      <td>0.97</td>\n",
              "    </tr>\n",
              "    <tr>\n",
              "      <th>9</th>\n",
              "      <td>24</td>\n",
              "      <td>38</td>\n",
              "      <td>0.021</td>\n",
              "      <td>87.508</td>\n",
              "      <td>1.00</td>\n",
              "      <td>0.95</td>\n",
              "      <td>1.95</td>\n",
              "      <td>207.66</td>\n",
              "      <td>619.64</td>\n",
              "      <td>0.96</td>\n",
              "    </tr>\n",
              "    <tr>\n",
              "      <th>10</th>\n",
              "      <td>38</td>\n",
              "      <td>39</td>\n",
              "      <td>0.003</td>\n",
              "      <td>86.985</td>\n",
              "      <td>0.95</td>\n",
              "      <td>1.00</td>\n",
              "      <td>1.95</td>\n",
              "      <td>619.64</td>\n",
              "      <td>193.86</td>\n",
              "      <td>0.96</td>\n",
              "    </tr>\n",
              "    <tr>\n",
              "      <th>11</th>\n",
              "      <td>19</td>\n",
              "      <td>38</td>\n",
              "      <td>0.014</td>\n",
              "      <td>86.839</td>\n",
              "      <td>1.00</td>\n",
              "      <td>0.94</td>\n",
              "      <td>1.94</td>\n",
              "      <td>234.98</td>\n",
              "      <td>619.64</td>\n",
              "      <td>0.96</td>\n",
              "    </tr>\n",
              "    <tr>\n",
              "      <th>12</th>\n",
              "      <td>8</td>\n",
              "      <td>38</td>\n",
              "      <td>0.004</td>\n",
              "      <td>87.285</td>\n",
              "      <td>1.00</td>\n",
              "      <td>0.91</td>\n",
              "      <td>1.91</td>\n",
              "      <td>222.38</td>\n",
              "      <td>619.64</td>\n",
              "      <td>0.93</td>\n",
              "    </tr>\n",
              "    <tr>\n",
              "      <th>13</th>\n",
              "      <td>15</td>\n",
              "      <td>29</td>\n",
              "      <td>0.010</td>\n",
              "      <td>18.760</td>\n",
              "      <td>1.00</td>\n",
              "      <td>0.90</td>\n",
              "      <td>1.90</td>\n",
              "      <td>45.41</td>\n",
              "      <td>151.12</td>\n",
              "      <td>0.92</td>\n",
              "    </tr>\n",
              "    <tr>\n",
              "      <th>14</th>\n",
              "      <td>10</td>\n",
              "      <td>46</td>\n",
              "      <td>0.010</td>\n",
              "      <td>6.293</td>\n",
              "      <td>0.89</td>\n",
              "      <td>1.00</td>\n",
              "      <td>1.89</td>\n",
              "      <td>40.66</td>\n",
              "      <td>27.98</td>\n",
              "      <td>0.93</td>\n",
              "    </tr>\n",
              "    <tr>\n",
              "      <th>15</th>\n",
              "      <td>1</td>\n",
              "      <td>2</td>\n",
              "      <td>0.010</td>\n",
              "      <td>42.667</td>\n",
              "      <td>1.00</td>\n",
              "      <td>0.87</td>\n",
              "      <td>1.87</td>\n",
              "      <td>106.66</td>\n",
              "      <td>140.58</td>\n",
              "      <td>0.93</td>\n",
              "    </tr>\n",
              "    <tr>\n",
              "      <th>16</th>\n",
              "      <td>4</td>\n",
              "      <td>30</td>\n",
              "      <td>0.104</td>\n",
              "      <td>10.330</td>\n",
              "      <td>0.81</td>\n",
              "      <td>1.00</td>\n",
              "      <td>1.81</td>\n",
              "      <td>88.24</td>\n",
              "      <td>62.88</td>\n",
              "      <td>0.89</td>\n",
              "    </tr>\n",
              "    <tr>\n",
              "      <th>17</th>\n",
              "      <td>4</td>\n",
              "      <td>10</td>\n",
              "      <td>0.110</td>\n",
              "      <td>9.650</td>\n",
              "      <td>0.81</td>\n",
              "      <td>1.00</td>\n",
              "      <td>1.81</td>\n",
              "      <td>88.24</td>\n",
              "      <td>40.66</td>\n",
              "      <td>0.87</td>\n",
              "    </tr>\n",
              "    <tr>\n",
              "      <th>18</th>\n",
              "      <td>10</td>\n",
              "      <td>32</td>\n",
              "      <td>0.012</td>\n",
              "      <td>9.243</td>\n",
              "      <td>0.89</td>\n",
              "      <td>0.90</td>\n",
              "      <td>1.79</td>\n",
              "      <td>40.66</td>\n",
              "      <td>48.77</td>\n",
              "      <td>0.90</td>\n",
              "    </tr>\n",
              "    <tr>\n",
              "      <th>19</th>\n",
              "      <td>30</td>\n",
              "      <td>42</td>\n",
              "      <td>0.086</td>\n",
              "      <td>10.358</td>\n",
              "      <td>1.00</td>\n",
              "      <td>0.76</td>\n",
              "      <td>1.76</td>\n",
              "      <td>62.88</td>\n",
              "      <td>71.92</td>\n",
              "      <td>0.87</td>\n",
              "    </tr>\n",
              "  </tbody>\n",
              "</table>\n",
              "</div>"
            ],
            "text/plain": [
              "    id_1  id_2  min_dist  max_dist  cov_1  cov_2   cov   len_1   len_2    op\n",
              "0     24    39     0.014    87.724   1.00   1.00  2.00  207.66  193.86  1.00\n",
              "1      4    42     0.018     9.505   1.00   1.00  2.00   88.24   71.92  1.00\n",
              "2     19    39     0.015    87.049   1.00   1.00  2.00  234.98  193.86  1.00\n",
              "3     23    32     0.003     5.311   1.00   1.00  2.00   25.74   48.77  1.00\n",
              "4     19    24     0.017    87.453   0.99   1.00  1.99  234.98  207.66  0.99\n",
              "5      4    17     0.065     9.437   1.00   0.97  1.97   88.24   78.81  0.99\n",
              "6     17    42     0.065     9.527   0.97   1.00  1.97   78.81   71.92  0.98\n",
              "7     10    30     0.048     9.269   1.00   0.96  1.96   40.66   62.88  0.98\n",
              "8     32    46     0.006     6.274   0.95   1.00  1.95   48.77   27.98  0.97\n",
              "9     24    38     0.021    87.508   1.00   0.95  1.95  207.66  619.64  0.96\n",
              "10    38    39     0.003    86.985   0.95   1.00  1.95  619.64  193.86  0.96\n",
              "11    19    38     0.014    86.839   1.00   0.94  1.94  234.98  619.64  0.96\n",
              "12     8    38     0.004    87.285   1.00   0.91  1.91  222.38  619.64  0.93\n",
              "13    15    29     0.010    18.760   1.00   0.90  1.90   45.41  151.12  0.92\n",
              "14    10    46     0.010     6.293   0.89   1.00  1.89   40.66   27.98  0.93\n",
              "15     1     2     0.010    42.667   1.00   0.87  1.87  106.66  140.58  0.93\n",
              "16     4    30     0.104    10.330   0.81   1.00  1.81   88.24   62.88  0.89\n",
              "17     4    10     0.110     9.650   0.81   1.00  1.81   88.24   40.66  0.87\n",
              "18    10    32     0.012     9.243   0.89   0.90  1.79   40.66   48.77  0.90\n",
              "19    30    42     0.086    10.358   1.00   0.76  1.76   62.88   71.92  0.87"
            ]
          },
          "metadata": {
            "tags": []
          },
          "execution_count": 18
        }
      ]
    },
    {
      "cell_type": "markdown",
      "metadata": {
        "id": "EGpeTY9z8tZ0",
        "colab_type": "text"
      },
      "source": [
        "### Рисуем одну пару"
      ]
    },
    {
      "cell_type": "code",
      "metadata": {
        "id": "19LLotj28tZ1",
        "colab_type": "code",
        "colab": {}
      },
      "source": [
        "pair = inspect(routes, distance_increment)"
      ],
      "execution_count": 0,
      "outputs": []
    },
    {
      "cell_type": "code",
      "metadata": {
        "id": "Ylr6Um6_8tZ9",
        "colab_type": "code",
        "outputId": "aff8934a-7bf0-4084-b8ca-4b0dc3896c3b",
        "colab": {
          "base_uri": "https://localhost:8080/",
          "height": 269
        }
      },
      "source": [
        "pair(i=32, j=46, search_radius=1, step_km=1)\n",
        "\n",
        "def f(k):\n",
        "  d = pair(32, 46, k, k)\n",
        "  d.update(dict(radius=k, id_1=32, id_2=36))\n",
        "  return d\n",
        "z = add_vars(pd.DataFrame([f(k) for k in [0.025, 0.050, 0.100, 0.500, 1, 2.5, 5]]))\n",
        "z"
      ],
      "execution_count": 0,
      "outputs": [
        {
          "output_type": "execute_result",
          "data": {
            "text/html": [
              "<div>\n",
              "<style scoped>\n",
              "    .dataframe tbody tr th:only-of-type {\n",
              "        vertical-align: middle;\n",
              "    }\n",
              "\n",
              "    .dataframe tbody tr th {\n",
              "        vertical-align: top;\n",
              "    }\n",
              "\n",
              "    .dataframe thead th {\n",
              "        text-align: right;\n",
              "    }\n",
              "</style>\n",
              "<table border=\"1\" class=\"dataframe\">\n",
              "  <thead>\n",
              "    <tr style=\"text-align: right;\">\n",
              "      <th></th>\n",
              "      <th>min_dist</th>\n",
              "      <th>max_dist</th>\n",
              "      <th>cov_1</th>\n",
              "      <th>cov_2</th>\n",
              "      <th>radius</th>\n",
              "      <th>id_1</th>\n",
              "      <th>id_2</th>\n",
              "      <th>cov</th>\n",
              "      <th>len_1</th>\n",
              "      <th>len_2</th>\n",
              "      <th>op</th>\n",
              "    </tr>\n",
              "  </thead>\n",
              "  <tbody>\n",
              "    <tr>\n",
              "      <th>0</th>\n",
              "      <td>0.000</td>\n",
              "      <td>7.267</td>\n",
              "      <td>0.39</td>\n",
              "      <td>0.51</td>\n",
              "      <td>0.025</td>\n",
              "      <td>32</td>\n",
              "      <td>36</td>\n",
              "      <td>0.90</td>\n",
              "      <td>48.77</td>\n",
              "      <td>167.1</td>\n",
              "      <td>0.48</td>\n",
              "    </tr>\n",
              "    <tr>\n",
              "      <th>1</th>\n",
              "      <td>0.000</td>\n",
              "      <td>7.265</td>\n",
              "      <td>0.45</td>\n",
              "      <td>0.52</td>\n",
              "      <td>0.050</td>\n",
              "      <td>32</td>\n",
              "      <td>36</td>\n",
              "      <td>0.97</td>\n",
              "      <td>48.77</td>\n",
              "      <td>167.1</td>\n",
              "      <td>0.50</td>\n",
              "    </tr>\n",
              "    <tr>\n",
              "      <th>2</th>\n",
              "      <td>0.001</td>\n",
              "      <td>7.260</td>\n",
              "      <td>0.49</td>\n",
              "      <td>0.59</td>\n",
              "      <td>0.100</td>\n",
              "      <td>32</td>\n",
              "      <td>36</td>\n",
              "      <td>1.08</td>\n",
              "      <td>48.77</td>\n",
              "      <td>167.1</td>\n",
              "      <td>0.57</td>\n",
              "    </tr>\n",
              "    <tr>\n",
              "      <th>3</th>\n",
              "      <td>0.005</td>\n",
              "      <td>7.271</td>\n",
              "      <td>0.77</td>\n",
              "      <td>0.68</td>\n",
              "      <td>0.500</td>\n",
              "      <td>32</td>\n",
              "      <td>36</td>\n",
              "      <td>1.45</td>\n",
              "      <td>48.77</td>\n",
              "      <td>167.1</td>\n",
              "      <td>0.70</td>\n",
              "    </tr>\n",
              "    <tr>\n",
              "      <th>4</th>\n",
              "      <td>0.012</td>\n",
              "      <td>7.089</td>\n",
              "      <td>0.83</td>\n",
              "      <td>0.79</td>\n",
              "      <td>1.000</td>\n",
              "      <td>32</td>\n",
              "      <td>36</td>\n",
              "      <td>1.62</td>\n",
              "      <td>48.77</td>\n",
              "      <td>167.1</td>\n",
              "      <td>0.80</td>\n",
              "    </tr>\n",
              "    <tr>\n",
              "      <th>5</th>\n",
              "      <td>0.006</td>\n",
              "      <td>6.274</td>\n",
              "      <td>0.90</td>\n",
              "      <td>1.00</td>\n",
              "      <td>2.500</td>\n",
              "      <td>32</td>\n",
              "      <td>36</td>\n",
              "      <td>1.90</td>\n",
              "      <td>48.77</td>\n",
              "      <td>167.1</td>\n",
              "      <td>0.98</td>\n",
              "    </tr>\n",
              "    <tr>\n",
              "      <th>6</th>\n",
              "      <td>0.020</td>\n",
              "      <td>5.688</td>\n",
              "      <td>1.00</td>\n",
              "      <td>1.00</td>\n",
              "      <td>5.000</td>\n",
              "      <td>32</td>\n",
              "      <td>36</td>\n",
              "      <td>2.00</td>\n",
              "      <td>48.77</td>\n",
              "      <td>167.1</td>\n",
              "      <td>1.00</td>\n",
              "    </tr>\n",
              "  </tbody>\n",
              "</table>\n",
              "</div>"
            ],
            "text/plain": [
              "   min_dist  max_dist  cov_1  cov_2  radius  ...  id_2   cov  len_1  len_2    op\n",
              "0     0.000     7.267   0.39   0.51   0.025  ...    36  0.90  48.77  167.1  0.48\n",
              "1     0.000     7.265   0.45   0.52   0.050  ...    36  0.97  48.77  167.1  0.50\n",
              "2     0.001     7.260   0.49   0.59   0.100  ...    36  1.08  48.77  167.1  0.57\n",
              "3     0.005     7.271   0.77   0.68   0.500  ...    36  1.45  48.77  167.1  0.70\n",
              "4     0.012     7.089   0.83   0.79   1.000  ...    36  1.62  48.77  167.1  0.80\n",
              "5     0.006     6.274   0.90   1.00   2.500  ...    36  1.90  48.77  167.1  0.98\n",
              "6     0.020     5.688   1.00   1.00   5.000  ...    36  2.00  48.77  167.1  1.00\n",
              "\n",
              "[7 rows x 11 columns]"
            ]
          },
          "metadata": {
            "tags": []
          },
          "execution_count": 20
        }
      ]
    },
    {
      "cell_type": "code",
      "metadata": {
        "id": "OxFYTXI78taF",
        "colab_type": "code",
        "outputId": "c170171a-2eb0-4619-8726-675ddb1705a3",
        "colab": {
          "base_uri": "https://localhost:8080/",
          "height": 298
        }
      },
      "source": [
        "z.plot(x='radius', y='op')"
      ],
      "execution_count": 0,
      "outputs": [
        {
          "output_type": "execute_result",
          "data": {
            "text/plain": [
              "<matplotlib.axes._subplots.AxesSubplot at 0x7f3b3b1658d0>"
            ]
          },
          "metadata": {
            "tags": []
          },
          "execution_count": 21
        },
        {
          "output_type": "display_data",
          "data": {
            "image/png": "[encoded data removed]",
            "text/plain": [
              "<Figure size 432x288 with 1 Axes>"
            ]
          },
          "metadata": {
            "tags": [],
            "needs_background": "light"
          }
        }
      ]
    },
    {
      "cell_type": "markdown",
      "metadata": {
        "colab_type": "text",
        "id": "OECWZp3AGdE2"
      },
      "source": [
        "# Графические функции"
      ]
    },
    {
      "cell_type": "code",
      "metadata": {
        "id": "SsmaYbE08taR",
        "colab_type": "code",
        "colab": {}
      },
      "source": [
        "\"\"\"Графические функции для отрисовки треков\"\"\"\n",
        "\n",
        "import matplotlib.pyplot as plt\n",
        "from matplotlib import cm\n",
        "\n",
        "\n",
        "def get_color(i, n):\n",
        "    if n <= 10:\n",
        "        cmap = cm.get_cmap(name=\"tab10\")\n",
        "        return cmap(i)\n",
        "    else:\n",
        "        cmap = cm.get_cmap(name=\"jet\")\n",
        "        return cmap(i / n)\n",
        "\n",
        "\n",
        "def yield_route_and_color(routes):\n",
        "    n = len(routes)\n",
        "    for i, r in enumerate(routes):\n",
        "        col = get_color(i, n)\n",
        "        yield r, col\n",
        "\n",
        "\n",
        "def make_plotter(axis_plotter_func):\n",
        "    def plotter(routes, ax=None, title=\"\"):\n",
        "        if ax is None:\n",
        "            f, ax = plt.subplots()\n",
        "        n = len(routes)\n",
        "        for i, r in enumerate(routes):\n",
        "            col = get_color(i, n)\n",
        "            axis_plotter_func(ax, r, col)\n",
        "        ax.set_title(title)\n",
        "        return ax\n",
        "\n",
        "    return plotter\n",
        "\n",
        "\n",
        "def scatter(ax, route, col):\n",
        "    ax.scatter(x=route.lon, y=route.lat, s=0.5, alpha=0.8, color=col)\n",
        "\n",
        "\n",
        "def segments(ax, route, col):\n",
        "    ax.plot(route.lon, route.lat, lw=1, alpha=0.8, linestyle=\":\", color=col)\n",
        "\n",
        "\n",
        "plot_points = make_plotter(scatter)\n",
        "plot_connections = make_plotter(segments)\n",
        "\n",
        "\n",
        "def plot_points_and_connections(routes, title=\"\", ax=None):\n",
        "    ax = plot_points(routes, ax)\n",
        "    plot_connections(routes, ax)\n",
        "\n",
        "\n",
        "def plot_raw_and_reduced(f1, f2, r1, r2, title=\"Общий заголовок\"):\n",
        "    fig, (ax1, ax2) = plt.subplots(\n",
        "        nrows=1, ncols=2, figsize=(10, 4), sharex=True, sharey=True\n",
        "    )\n",
        "    plot_points_and_connections([f1, f2], ax=ax1, title=\"Исходные треки\")\n",
        "    plot_points_and_connections([r1, r2], ax=ax2, title=\"Упрощенные треки\")\n",
        "    plt.suptitle(title)\n",
        "\n",
        "\n",
        "def plot_two(routes, i: int, j: int, simplify_with=None, title=\"\"):\n",
        "    \"\"\"Отрисовка пары маршрутов по индексам в выборке.\"\"\"\n",
        "    f1, f2 = routes[i], routes[j]\n",
        "    if simplify_with:\n",
        "        r1, r2 = simplify_with(f1), simplify_with(f2)\n",
        "    else:\n",
        "        r1, r2 = f1, f2\n",
        "    title = f\"Поездки {i} и {j}\"\n",
        "    plot_raw_and_reduced(f1, f2, r1, r2, title)\n",
        "\n",
        "\n",
        "def plot_one(route):      \n",
        "    return plot_points([route])\n",
        "            "
      ],
      "execution_count": 0,
      "outputs": []
    },
    {
      "cell_type": "markdown",
      "metadata": {
        "colab_type": "text",
        "id": "HHU0lkdVHgxX"
      },
      "source": [
        "## Пример"
      ]
    },
    {
      "cell_type": "code",
      "metadata": {
        "id": "xs3Xm9yH8tad",
        "colab_type": "code",
        "outputId": "483e4805-9015-4aaa-c1a9-7b0cc6e61686",
        "colab": {
          "base_uri": "https://localhost:8080/",
          "height": 313
        }
      },
      "source": [
        "plot_two(routes, 32, 46, distance_increment(1))\n",
        "milages[32], milages[46]"
      ],
      "execution_count": 0,
      "outputs": [
        {
          "output_type": "execute_result",
          "data": {
            "text/plain": [
              "(48.77, 27.98)"
            ]
          },
          "metadata": {
            "tags": []
          },
          "execution_count": 23
        },
        {
          "output_type": "display_data",
          "data": {
            "image/png": "[encoded data removed]",
            "text/plain": [
              "<Figure size 720x288 with 2 Axes>"
            ]
          },
          "metadata": {
            "tags": [],
            "needs_background": "light"
          }
        }
      ]
    }
  ]
}