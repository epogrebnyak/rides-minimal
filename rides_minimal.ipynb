{
  "nbformat": 4,
  "nbformat_minor": 0,
  "metadata": {
    "colab": {
      "name": "rides_minimal.ipynb",
      "provenance": [],
      "collapsed_sections": [],
      "toc_visible": true,
      "include_colab_link": true
    },
    "kernelspec": {
      "name": "python3",
      "display_name": "Python 3"
    }
  },
  "cells": [
    {
      "cell_type": "markdown",
      "metadata": {
        "id": "view-in-github",
        "colab_type": "text"
      },
      "source": [
        "<a href=\"https://colab.research.google.com/github/epogrebnyak/rides-minimal/blob/master/rides_minimal.ipynb\" target=\"_parent\"><img src=\"https://colab.research.google.com/assets/colab-badge.svg\" alt=\"Open In Colab\"/></a>"
      ]
    },
    {
      "cell_type": "code",
      "metadata": {
        "id": "Be9gFOCfIvOq",
        "colab_type": "code",
        "colab": {}
      },
      "source": [
        "import pathlib\n",
        "from dataclasses import dataclass\n",
        "from typing import List, Tuple, Generator, Callable\n",
        "\n",
        "import requests\n",
        "import pandas as pd\n",
        "import numpy as np\n",
        "\n",
        "from scipy.spatial.distance import cdist\n",
        "\n",
        "pd.set_option(\"mode.chained_assignment\", None)"
      ],
      "execution_count": 0,
      "outputs": []
    },
    {
      "cell_type": "markdown",
      "metadata": {
        "id": "kzOzqwDxGhwM",
        "colab_type": "text"
      },
      "source": [
        "# Подготовка данных"
      ]
    },
    {
      "cell_type": "code",
      "metadata": {
        "id": "9gPTbJGLCvZ-",
        "colab_type": "code",
        "colab": {}
      },
      "source": [
        "# Сохраним файл с данными локально\n",
        "\n",
        "sample_data_url = \"https://ridesample.s3.eu-central-1.amazonaws.com/one_day.zip\"\n",
        "sample_data_filename = \"one_day.zip\"\n",
        "\n",
        "file = pathlib.Path(sample_data_filename)\n",
        "if not file.exists():\n",
        "  r = requests.get(sample_data_url)\n",
        "  file.write_bytes(r.content)"
      ],
      "execution_count": 0,
      "outputs": []
    },
    {
      "cell_type": "code",
      "metadata": {
        "id": "sOQSoLvUE3Dm",
        "colab_type": "code",
        "colab": {}
      },
      "source": [
        "# Функции для импорта данных\n",
        "\n",
        "def get_dataframe(filename=sample_data_filename):\n",
        "    df = pd.read_csv(filename, parse_dates=[\"time\"])\n",
        "    return check_dataframe(df)\n",
        "\n",
        "def check_dataframe(df: pd.DataFrame):\n",
        "    required_columns = set([\"car\", \"lat\", \"lon\", \"time\"])\n",
        "    missing_columns = required_columns - set(df.columns)\n",
        "    if missing_columns:\n",
        "        raise ValueError(f\"Missing from {df.head()}: {missing_columns}\")\n",
        "    return df   "
      ],
      "execution_count": 0,
      "outputs": []
    },
    {
      "cell_type": "markdown",
      "metadata": {
        "id": "p3sF5QvGGppy",
        "colab_type": "text"
      },
      "source": [
        "# Вспомогательные функции"
      ]
    },
    {
      "cell_type": "markdown",
      "metadata": {
        "id": "jbVrRpeiI-Bx",
        "colab_type": "text"
      },
      "source": [
        "## Комбинации из n по 2"
      ]
    },
    {
      "cell_type": "code",
      "metadata": {
        "id": "QUmz-e5mH1N3",
        "colab_type": "code",
        "colab": {}
      },
      "source": [
        "from itertools import combinations\n",
        "\n",
        "def get_combinations(n: int) -> List[Tuple[int, int]]:\n",
        "    \"\"\"Выбор комбинаций из n по 2.\"\"\"\n",
        "    return [(i, j) for i, j in combinations(range(n), 2)]\n",
        "\n",
        "def count_combinations(n: int) -> int:\n",
        "    return len(list(get_combinations(n)))"
      ],
      "execution_count": 0,
      "outputs": []
    },
    {
      "cell_type": "markdown",
      "metadata": {
        "id": "s-FwrJbUJDAj",
        "colab_type": "text"
      },
      "source": [
        "## Функции расстояний"
      ]
    },
    {
      "cell_type": "code",
      "metadata": {
        "id": "vNvOgW9RIOT6",
        "colab_type": "code",
        "colab": {}
      },
      "source": [
        "from geopy.distance import great_circle\n",
        "\n",
        "def distance_km(a: tuple, b: tuple):\n",
        "    # great_circle() менее точен, но быстрее чем geopy.distance.distance\n",
        "    # https://geopy.readthedocs.io/en/stable/#module-geopy.distance\n",
        "    return great_circle(a, b).km\n",
        "\n",
        "Coord = Tuple[float, float]\n",
        "\n",
        "# используется с distance_delta\n",
        "def safe_distance(a: Coord, b: Coord) -> float:\n",
        "  if not isinstance(b, tuple): # catch NaN\n",
        "    return 0\n",
        "  if a == b:\n",
        "    return 0  \n",
        "  return distance_km(a, b)  \n",
        "\n",
        "# используется с cdist\n",
        "def safe_distance_2(a: Coord, b: Coord) -> float:    \n",
        "    x1, y1 = a\n",
        "    x2, y2 = b\n",
        "    if np.isnan(x1) or np.isnan(x2):\n",
        "        return np.nan\n",
        "    else:\n",
        "        return distance_km(a, b)\n",
        "\n",
        "def distance_delta(df: pd.DataFrame) -> pd.DataFrame:\n",
        "    return (df.assign(prev_coord=lambda df: df.coord.shift(1))\n",
        "              .apply(lambda df: safe_distance(df.coord, df.prev_coord), axis=1)\n",
        "              )"
      ],
      "execution_count": 0,
      "outputs": []
    },
    {
      "cell_type": "code",
      "metadata": {
        "id": "C2ipPeaulBlw",
        "colab_type": "code",
        "colab": {}
      },
      "source": [
        "g = pd.DataFrame({'coord': \n",
        " {0: (54.683064, 20.497738),\n",
        "  1: (54.683064, 20.497738),\n",
        "  2: (54.683048, 20.49774),\n",
        "  3: (54.68299200000001, 20.49775),\n",
        "  4: (54.682976, 20.497762)}})\n",
        "assert distance_delta(g).to_dict() == {0: 0.0,\n",
        " 1: 0.0,\n",
        " 2: 0.0017837604435998087,\n",
        " 3: 0.0062600164760756695,\n",
        " 4: 0.001939150257246242}"
      ],
      "execution_count": 0,
      "outputs": []
    },
    {
      "cell_type": "markdown",
      "metadata": {
        "id": "9rYi2tbw2HWt",
        "colab_type": "text"
      },
      "source": [
        "# Поиск сходимости"
      ]
    },
    {
      "cell_type": "markdown",
      "metadata": {
        "id": "h9NBjHRpJSU8",
        "colab_type": "text"
      },
      "source": [
        "## Базовая работа с треком"
      ]
    },
    {
      "cell_type": "code",
      "metadata": {
        "id": "EDKYthgrIgN6",
        "colab_type": "code",
        "colab": {}
      },
      "source": [
        "class Route(pd.DataFrame):\n",
        "    pass\n",
        "\n",
        "def make_route(df: pd.DataFrame) -> Route:\n",
        "    res = df[[\"time\", \"lat\", \"lon\"]]\n",
        "    res[\"coord\"] = coord(df)\n",
        "    # add time and dist deltas - slow, disabled \n",
        "    # res['milage'] = milage_acc(res)\n",
        "    # res['duration'] = duration_acc(res)\n",
        "    return res.sort_values(\"time\")\n",
        "\n",
        "def get_cars_and_routes(df: pd.DataFrame) -> (List[str], List[Route]):\n",
        "    cars = []\n",
        "    routes = []\n",
        "    df[\"date\"] = df[\"time\"].apply(lambda x: x.date())\n",
        "    for date in df.date.unique():\n",
        "        for car in df.car.unique():\n",
        "            ix = (df.car == car) & (df.date == date)\n",
        "            cars.append(car)\n",
        "            route = make_route(df[ix])\n",
        "            routes.append(route)\n",
        "    return cars, routes     \n",
        "\n",
        "\n",
        "def coord(df: pd.DataFrame):\n",
        "    return list(zip(df.lat, df.lon))\n",
        "\n",
        "\n",
        "def seconds(series: pd.Series) -> pd.Series:\n",
        "    return series.apply(lambda x: x.total_seconds())\n",
        "\n",
        "\n",
        "def duration_acc(df: pd.DataFrame) -> pd.DataFrame:\n",
        "    return seconds(df.time - df.time.iloc[0]) / 60\n",
        "\n",
        "\n",
        "def time_deltas(df: pd.DataFrame) -> pd.DataFrame:\n",
        "    return seconds(df.time.diff())\n",
        "\n",
        "\n",
        "def milage_acc(df: pd.DataFrame) -> pd.DataFrame:\n",
        "    return distance_delta(df).cumsum().fillna(0)\n",
        "\n",
        "\n",
        "def milage(route) -> float:\n",
        "    return round(milage_acc(route).iloc[-1], 2)\n",
        "\n",
        "\n",
        "def points(route_df: Route) -> np.ndarray:\n",
        "    return np.array(route_df.coord.to_list())\n",
        "\n",
        "\n",
        "def date(route):\n",
        "    return route.iloc[0].time.date()\n",
        "\n",
        "\n",
        "def start_time(route):\n",
        "    return route.iloc[0].time\n",
        "\n",
        "\n",
        "def end_time(route):\n",
        "    return route.iloc[-1].time\n",
        "\n",
        "\n",
        "def plot(route):      \n",
        "    return plot_points([route])\n",
        "        \n"
      ],
      "execution_count": 0,
      "outputs": []
    },
    {
      "cell_type": "code",
      "metadata": {
        "id": "Xlq9aS8frg9k",
        "colab_type": "code",
        "outputId": "a553a526-7580-4dbf-edb3-76aebef767c7",
        "colab": {
          "base_uri": "https://localhost:8080/",
          "height": 129
        }
      },
      "source": [
        "milage_acc(g)"
      ],
      "execution_count": 0,
      "outputs": [
        {
          "output_type": "execute_result",
          "data": {
            "text/plain": [
              "0    0.000000\n",
              "1    0.000000\n",
              "2    0.001784\n",
              "3    0.008044\n",
              "4    0.009983\n",
              "dtype: float64"
            ]
          },
          "metadata": {
            "tags": []
          },
          "execution_count": 8
        }
      ]
    },
    {
      "cell_type": "markdown",
      "metadata": {
        "id": "1eAmqT9DJfiy",
        "colab_type": "text"
      },
      "source": [
        "##  Функции апроксимации трека\n",
        "\n",
        "- [x] по времени в пути (инкремент, количество сегментов)\n",
        "- [x] по расстоянию (инкремент, количество сегментов)\n",
        "- [ ] по астрономическому времени (есть в ноутбке `rides2`)\n",
        "- [ ] по остановкам (есть в \"тяжелом\" алгоритме)"
      ]
    },
    {
      "cell_type": "code",
      "metadata": {
        "id": "zQzT5T6EJj0-",
        "colab_type": "code",
        "colab": {}
      },
      "source": [
        "def growing_index(xs, step):\n",
        "    xs = [x for x in xs]\n",
        "    result = [0]  # will include start point\n",
        "    current = xs[0]\n",
        "    for i, x in enumerate(xs):\n",
        "        accumulated = x - current\n",
        "        if accumulated >= step:\n",
        "            result.append(i)\n",
        "            accumulated = 0\n",
        "            current = x\n",
        "    n = len(xs) - 1\n",
        "    if result[-1] != n: # will include end point\n",
        "        result.append(n)\n",
        "    return result\n",
        "\n",
        "\n",
        "def time_increment_(minutes: int, route: Route):\n",
        "    xs = duration_acc(route)\n",
        "    ix = growing_index(xs, minutes)\n",
        "    return route.iloc[ix]\n",
        "\n",
        "\n",
        "def time_increment(minutes):\n",
        "    return lambda route: time_increment_(minutes, route)\n",
        "\n",
        "\n",
        "def distance_increment_(step_km: float, route: Route):\n",
        "    xs = milage_acc(route)\n",
        "    ix = growing_index(xs, step_km)\n",
        "    return route.iloc[ix]\n",
        "\n",
        "\n",
        "def distance_increment(step_km: float):\n",
        "    return lambda route: distance_increment_(step_km, route)\n",
        "\n",
        "\n",
        "def find_index_quantile(xs: List, q: float) -> int:\n",
        "    if q == 0:\n",
        "        return 0\n",
        "    if q == 1:\n",
        "        return -1\n",
        "    return np.searchsorted(xs, v=np.quantile(xs, q), side=\"left\")\n",
        "\n",
        "\n",
        "def find_index(xs: List, n_segments: int) -> List[int]:\n",
        "    qs = np.linspace(0, 1, n_segments + 1)\n",
        "    return [find_index_quantile(xs, q) for q in qs]\n",
        "\n",
        "\n",
        "def n_segments_by_distance_(n: int, route: Route):\n",
        "    xs = milage_acc(route)\n",
        "    ix = find_index(xs, n)\n",
        "    return route.iloc[ix]\n",
        "\n",
        "\n",
        "def n_segments_by_distance(n: int):\n",
        "    return lambda route: n_segments_by_distance_(n, route)\n",
        "\n",
        "\n",
        "def n_segments_by_time_(n: int, route: Route):\n",
        "    xs = duration_acc(route)\n",
        "    ix = find_index(xs, n)\n",
        "    return route.iloc[ix]\n",
        "\n",
        "\n",
        "def n_segments_by_time(n: int):\n",
        "    return lambda route: n_segments_by_time_(n, route)\n"
      ],
      "execution_count": 0,
      "outputs": []
    },
    {
      "cell_type": "code",
      "metadata": {
        "id": "ln6lWDfBsDUc",
        "colab_type": "code",
        "outputId": "50404612-f008-4127-a25b-a0c1eddf0eb7",
        "colab": {
          "base_uri": "https://localhost:8080/",
          "height": 143
        }
      },
      "source": [
        "n_segments_by_distance(2)(g)"
      ],
      "execution_count": 0,
      "outputs": [
        {
          "output_type": "execute_result",
          "data": {
            "text/html": [
              "<div>\n",
              "<style scoped>\n",
              "    .dataframe tbody tr th:only-of-type {\n",
              "        vertical-align: middle;\n",
              "    }\n",
              "\n",
              "    .dataframe tbody tr th {\n",
              "        vertical-align: top;\n",
              "    }\n",
              "\n",
              "    .dataframe thead th {\n",
              "        text-align: right;\n",
              "    }\n",
              "</style>\n",
              "<table border=\"1\" class=\"dataframe\">\n",
              "  <thead>\n",
              "    <tr style=\"text-align: right;\">\n",
              "      <th></th>\n",
              "      <th>coord</th>\n",
              "    </tr>\n",
              "  </thead>\n",
              "  <tbody>\n",
              "    <tr>\n",
              "      <th>0</th>\n",
              "      <td>(54.683064, 20.497738)</td>\n",
              "    </tr>\n",
              "    <tr>\n",
              "      <th>2</th>\n",
              "      <td>(54.683048, 20.49774)</td>\n",
              "    </tr>\n",
              "    <tr>\n",
              "      <th>4</th>\n",
              "      <td>(54.682976, 20.497762)</td>\n",
              "    </tr>\n",
              "  </tbody>\n",
              "</table>\n",
              "</div>"
            ],
            "text/plain": [
              "                    coord\n",
              "0  (54.683064, 20.497738)\n",
              "2   (54.683048, 20.49774)\n",
              "4  (54.682976, 20.497762)"
            ]
          },
          "metadata": {
            "tags": []
          },
          "execution_count": 10
        }
      ]
    },
    {
      "cell_type": "markdown",
      "metadata": {
        "id": "oUA80kndJ8nL",
        "colab_type": "text"
      },
      "source": [
        "## Матрица расстояний между точками двух треков\n",
        "\n"
      ]
    },
    {
      "cell_type": "code",
      "metadata": {
        "id": "m89ssM39KDDx",
        "colab_type": "code",
        "colab": {}
      },
      "source": [
        "def proximity(r1, r2):\n",
        "    mat = cdist(points(r1), points(r2), safe_distance_2)\n",
        "    return Proximity(mat)\n",
        "\n",
        "#def report_proximity(route1: Route, route2: Route, radius_km: float):\n",
        "#    p = proximity(route1, route2)\n",
        "#    return p.report(radius_km)\n",
        "\n",
        "@dataclass\n",
        "class Proximity:\n",
        "    \"\"\"Матрица расстояний между двумя треками.\"\"\"\n",
        "\n",
        "    mat: np.ndarray\n",
        "\n",
        "    def min(self):\n",
        "        \"\"\"\n",
        "    Минимиальное расстояние между всеми точками двух треков.\n",
        "    \"\"\"\n",
        "        return round(np.nanmin(self.mat), 3)\n",
        "\n",
        "    def max(self):\n",
        "        \"\"\"\n",
        "    Максимальное расстояние между всеми точками двух треков.\n",
        "    \"\"\"\n",
        "        return round(np.amax(self.mat), 3)\n",
        "\n",
        "    def side_min(self, axis: int):\n",
        "        # 1 is to search by columns - applies to searching minima for 1st route\n",
        "        # 0 is to search by rows - applies to searching minima for 2nd route\n",
        "        x = np.nanmin(self.mat, axis)\n",
        "        return x[~np.isnan(x)]\n",
        "\n",
        "    def coverages(self):\n",
        "        return Coverage(self.side_min(1)), Coverage(self.side_min(0))\n",
        "\n",
        "    def report(self, search_radius: float):\n",
        "      c1, c2 = self.coverages()\n",
        "      return dict(\n",
        "                min_dist=self.min(),\n",
        "                max_dist=self.max(),\n",
        "                cov_1=c1.coverage(search_radius),\n",
        "                cov_2=c2.coverage(search_radius),\n",
        "            )    \n",
        "\n",
        "\n",
        "@dataclass\n",
        "class Coverage:\n",
        "    \"\"\"Для каждой точки выбранного трека посчитано \n",
        "       минимальное из расстояний до точек другого трека.\n",
        "       \n",
        "       Если в треке 10 точек, то минимальных расстояний \n",
        "       до другого трека будет 10.\n",
        "       \n",
        "       Мы выбираем те из расстояний, которые меньше заданного \n",
        "       порога(радиуса) сближения.\n",
        "              \n",
        "       Предположим в треке 10 точек и минимальные расстояния до \n",
        "       фигуры второго трека такие:\n",
        "       \n",
        "       >> mins = [21.2, 22.6, 17.6, 7.7, 2.7, 0.3, 0.4, 0.6, 0.2, 3.1]\n",
        "       \n",
        "       Тогда \"сблизившимися\" с другим треков при радиусе точности 1 \n",
        "       мы считаем 4 точки:\n",
        "       \n",
        "       >> radius = 1           \n",
        "       >> [x for x in mins if x < radius]\n",
        "       [0.3, 0.4, 0.6, 0.2]\n",
        "       \n",
        "       Коэффциент перекрытия составляет 4/10 = 40%. \n",
        "       \n",
        "       Он показывает, что 40% точек данного трека\n",
        "       находились на расстоянии не более чем *radius*\n",
        "       от какой-то точки другого трека.\n",
        "       \n",
        "       Замечания:\n",
        "       \n",
        "       - Коэффциент перекрытия (КП) может интепретироваться как \n",
        "         часть пути, если отрезки между точками равные. \n",
        "         \n",
        "       - Значение коэффциента перекрытия зависит от точности \n",
        "         апроксимации трека и радиуса.       \n",
        "         \n",
        "       - Треки могут иметь сложную форму, высокий КП не гарантирует,\n",
        "         что доставку по одному треку можно переложить на другой трек.\n",
        "         Но при низких КП это заведомо невозможно.\n",
        "         \n",
        "       - Нулевой КП - машины ездили в разных местах.  \n",
        "         \n",
        "    \"\"\"\n",
        "\n",
        "    mins: np.ndarray\n",
        "\n",
        "    def in_proximity(self, radius: float):\n",
        "        \"\"\"Все минимальные расстояния до другого трека, величина \n",
        "          которых меньше заданного радиуса сближения.\n",
        "       \"\"\"\n",
        "        return self.mins[self.mins < radius]\n",
        "\n",
        "    def coverage(self, radius: float):\n",
        "        \"\"\"Коэффициент перекрытия - доля трека, которая находится \n",
        "           на расстоянии не более заданного радиуса от другого трека.\n",
        "        \"\"\"\n",
        "        return round(len(self.in_proximity(radius)) / len(self.mins), 2)"
      ],
      "execution_count": 0,
      "outputs": []
    },
    {
      "cell_type": "markdown",
      "metadata": {
        "id": "bHAhtNLHKZ-M",
        "colab_type": "text"
      },
      "source": [
        "## Функции поиска сходимости\n",
        "\n",
        "\n",
        "\n"
      ]
    },
    {
      "cell_type": "code",
      "metadata": {
        "id": "QRc--DXwKgQ7",
        "colab_type": "code",
        "colab": {}
      },
      "source": [
        "def inspect(routes, simplify_with=distance_increment):\n",
        "  def pair(i, j, search_radius, *arg, **kwarg):\n",
        "      f = simplify_with(*arg, **kwarg)\n",
        "      r1 = f(routes[i])\n",
        "      r2 = f(routes[j])\n",
        "      return proximity(r1, r2).report(search_radius)\n",
        "  return pair\n",
        "\n",
        "def search(\n",
        "    routes: List[Route],\n",
        "    simplify_with: Callable,\n",
        "    search_radius_1: float,\n",
        "    refine_with = Callable,\n",
        "    search_radius_2 = float,\n",
        "    limit=None,\n",
        "):\n",
        "\n",
        "    # Урезаем для демо-примеров\n",
        "    if limit:\n",
        "        routes = routes[0:limit]\n",
        "        print(f\"Trimmed dataset to {limit} pairs\")\n",
        "\n",
        "    m = len(routes)\n",
        "    print(f\"{count_combinations(m)} pairs are possible for {m} routes\")\n",
        "\n",
        "    # Грубая апроксимация треков    \n",
        "    print(f\"Simplified {m} routes\")\n",
        "    rough_routes = [simplify_with(route) for route in routes]\n",
        "\n",
        "    def prox(i, j):  # замыкание для удобного доступа к routes\n",
        "        return proximity(rough_routes[i], rough_routes[j])\n",
        "\n",
        "    # Выбор пересекающися пар\n",
        "    pairs = [(i,j) for (i,j) in get_combinations(m) \n",
        "              if prox(i,j).min() < search_radius_1]\n",
        "    print(f\"Found {len(pairs)} pairs of intersecting routes\")\n",
        "\n",
        "    # Уточняем апроксимацию треков   \n",
        "    def members(pairs):\n",
        "      from itertools import chain\n",
        "      return set(chain.from_iterable(pairs))\n",
        "\n",
        "    refined_routes = list(range(m)) \n",
        "    for k, i in enumerate(members(pairs)):\n",
        "        refined_routes[i] = refine_with(routes[i])\n",
        "    print(f\"Made better approximation of {k} routes\")\n",
        "    print(\"Calculating distances between routes and reporting...\")\n",
        "\n",
        "    # Считаем перекрытие треков в пересекающися парах\n",
        "    from tqdm import tqdm\n",
        "    result = []\n",
        "    for (i, j) in tqdm(pairs):\n",
        "        p = proximity(refined_routes[i], refined_routes[j])\n",
        "        if p.min() < search_radius_1:\n",
        "            d = dict(\n",
        "                id_1=i, \n",
        "                id_2=j,\n",
        "                **p.report(search_radius_2)\n",
        "            )\n",
        "            result.append(d)\n",
        "    return result"
      ],
      "execution_count": 0,
      "outputs": []
    },
    {
      "cell_type": "markdown",
      "metadata": {
        "id": "r6u1hZFSX9Xv",
        "colab_type": "text"
      },
      "source": [
        "## Кэширование длинных расчетов\n"
      ]
    },
    {
      "cell_type": "code",
      "metadata": {
        "id": "I_iIwgCdYNpT",
        "colab_type": "code",
        "colab": {}
      },
      "source": [
        "import json\n",
        "import pathlib\n",
        "\n",
        "\n",
        "def from_cache(getter, filename):\n",
        "  cachefile = pathlib.Path(filename)\n",
        "  if cachefile.exists():\n",
        "    content = json.load(cachefile.open())\n",
        "  else:  \n",
        "    content = getter()  \n",
        "    json.dump(content, cachefile.open())\n",
        "  return content"
      ],
      "execution_count": 0,
      "outputs": []
    },
    {
      "cell_type": "markdown",
      "metadata": {
        "id": "nA2yojipG3cD",
        "colab_type": "text"
      },
      "source": [
        "## Примеры"
      ]
    },
    {
      "cell_type": "code",
      "metadata": {
        "id": "kwPXHGvvsfYG",
        "colab_type": "code",
        "colab": {}
      },
      "source": [
        "  # Получаем исходные данные\n",
        "  df = get_dataframe(sample_data_filename)\n",
        "  # Преобразуем датафрейм в список поедок\n",
        "  cars, routes = get_cars_and_routes(df)\n",
        "  assert len(cars) == len(routes) == 49"
      ],
      "execution_count": 0,
      "outputs": []
    },
    {
      "cell_type": "code",
      "metadata": {
        "id": "aCfS0NBeTKAs",
        "colab_type": "code",
        "colab": {}
      },
      "source": [
        "# Пробег по поездкам\n",
        "milages = from_cache(lambda: [milage(r) for r in routes],\n",
        "                     \"milage.json\")   \n",
        "assert milages[0] == 72.38"
      ],
      "execution_count": 0,
      "outputs": []
    },
    {
      "cell_type": "code",
      "metadata": {
        "id": "_AEJXYpKGLPR",
        "colab_type": "code",
        "outputId": "de37c15a-7a2e-4618-aabe-39f16a48af85",
        "colab": {
          "base_uri": "https://localhost:8080/",
          "height": 149
        }
      },
      "source": [
        "# Запускаем алгоритм расчета попарных характеристик поездок\n",
        "\n",
        "def default_search(routes: List[Route], limit=None):\n",
        "   return search( \n",
        "    routes,\n",
        "    simplify_with = n_segments_by_distance(n=10),\n",
        "    search_radius_1 = 10,\n",
        "    refine_with = distance_increment(step_km=2.5),\n",
        "    search_radius_2 = 2.5 * 1.2,\n",
        "    limit=limit,\n",
        ")   \n",
        "result_dicts = default_search(routes, limit=None)"
      ],
      "execution_count": 0,
      "outputs": [
        {
          "output_type": "stream",
          "text": [
            "1176 pairs are possible for 49 routes\n",
            "Simplified 49 routes\n",
            "Found 667 pairs of intersecting routes\n"
          ],
          "name": "stdout"
        },
        {
          "output_type": "stream",
          "text": [
            "  0%|          | 3/667 [00:00<00:32, 20.64it/s]"
          ],
          "name": "stderr"
        },
        {
          "output_type": "stream",
          "text": [
            "Made better approximation of 48 routes\n",
            "Calculating distances between routes and reporting...\n"
          ],
          "name": "stdout"
        },
        {
          "output_type": "stream",
          "text": [
            "100%|██████████| 667/667 [00:56<00:00, 11.77it/s]\n"
          ],
          "name": "stderr"
        }
      ]
    },
    {
      "cell_type": "code",
      "metadata": {
        "id": "qERiPo8IQfaq",
        "colab_type": "code",
        "outputId": "6c4b58b3-f18c-45b0-8521-534c6e6a9a2f",
        "colab": {
          "base_uri": "https://localhost:8080/",
          "height": 676
        }
      },
      "source": [
        "  # Формируем выгрузку данных в csv\n",
        "  result_df = (\n",
        "      pd.DataFrame(result_dicts)\n",
        "      .assign(cov=lambda r: r.cov_1 + r.cov_2)\n",
        "      .assign(len_1=lambda df: df.id_1.apply(lambda x: milages[x]))\n",
        "      .assign(len_2=lambda df: df.id_2.apply(lambda x: milages[x]))\n",
        "      .sort_values(\"cov\", ascending=False)\n",
        "      .assign(sd=lambda df: round((df.cov_1*df.len_1 + df.cov_2*df.len_2) /\n",
        "              (df.len_1+df.len_2),2)\n",
        "              )\n",
        "      .head(20)\n",
        "      .reset_index(drop=True)\n",
        "  )  \n",
        "  result_df.to_csv(\"output.csv\", index=None)\n",
        "  result_df"
      ],
      "execution_count": 0,
      "outputs": [
        {
          "output_type": "execute_result",
          "data": {
            "text/html": [
              "<div>\n",
              "<style scoped>\n",
              "    .dataframe tbody tr th:only-of-type {\n",
              "        vertical-align: middle;\n",
              "    }\n",
              "\n",
              "    .dataframe tbody tr th {\n",
              "        vertical-align: top;\n",
              "    }\n",
              "\n",
              "    .dataframe thead th {\n",
              "        text-align: right;\n",
              "    }\n",
              "</style>\n",
              "<table border=\"1\" class=\"dataframe\">\n",
              "  <thead>\n",
              "    <tr style=\"text-align: right;\">\n",
              "      <th></th>\n",
              "      <th>id_1</th>\n",
              "      <th>id_2</th>\n",
              "      <th>min_dist</th>\n",
              "      <th>max_dist</th>\n",
              "      <th>cov_1</th>\n",
              "      <th>cov_2</th>\n",
              "      <th>cov</th>\n",
              "      <th>len_1</th>\n",
              "      <th>len_2</th>\n",
              "      <th>sd</th>\n",
              "    </tr>\n",
              "  </thead>\n",
              "  <tbody>\n",
              "    <tr>\n",
              "      <th>0</th>\n",
              "      <td>24</td>\n",
              "      <td>39</td>\n",
              "      <td>0.014</td>\n",
              "      <td>87.724</td>\n",
              "      <td>1.00</td>\n",
              "      <td>1.00</td>\n",
              "      <td>2.00</td>\n",
              "      <td>207.66</td>\n",
              "      <td>193.86</td>\n",
              "      <td>1.00</td>\n",
              "    </tr>\n",
              "    <tr>\n",
              "      <th>1</th>\n",
              "      <td>4</td>\n",
              "      <td>42</td>\n",
              "      <td>0.018</td>\n",
              "      <td>9.505</td>\n",
              "      <td>1.00</td>\n",
              "      <td>1.00</td>\n",
              "      <td>2.00</td>\n",
              "      <td>88.24</td>\n",
              "      <td>71.92</td>\n",
              "      <td>1.00</td>\n",
              "    </tr>\n",
              "    <tr>\n",
              "      <th>2</th>\n",
              "      <td>19</td>\n",
              "      <td>39</td>\n",
              "      <td>0.015</td>\n",
              "      <td>87.049</td>\n",
              "      <td>1.00</td>\n",
              "      <td>1.00</td>\n",
              "      <td>2.00</td>\n",
              "      <td>234.98</td>\n",
              "      <td>193.86</td>\n",
              "      <td>1.00</td>\n",
              "    </tr>\n",
              "    <tr>\n",
              "      <th>3</th>\n",
              "      <td>23</td>\n",
              "      <td>32</td>\n",
              "      <td>0.003</td>\n",
              "      <td>5.311</td>\n",
              "      <td>1.00</td>\n",
              "      <td>1.00</td>\n",
              "      <td>2.00</td>\n",
              "      <td>25.74</td>\n",
              "      <td>48.77</td>\n",
              "      <td>1.00</td>\n",
              "    </tr>\n",
              "    <tr>\n",
              "      <th>4</th>\n",
              "      <td>19</td>\n",
              "      <td>24</td>\n",
              "      <td>0.017</td>\n",
              "      <td>87.453</td>\n",
              "      <td>0.99</td>\n",
              "      <td>1.00</td>\n",
              "      <td>1.99</td>\n",
              "      <td>234.98</td>\n",
              "      <td>207.66</td>\n",
              "      <td>0.99</td>\n",
              "    </tr>\n",
              "    <tr>\n",
              "      <th>5</th>\n",
              "      <td>4</td>\n",
              "      <td>17</td>\n",
              "      <td>0.065</td>\n",
              "      <td>9.437</td>\n",
              "      <td>1.00</td>\n",
              "      <td>0.97</td>\n",
              "      <td>1.97</td>\n",
              "      <td>88.24</td>\n",
              "      <td>78.81</td>\n",
              "      <td>0.99</td>\n",
              "    </tr>\n",
              "    <tr>\n",
              "      <th>6</th>\n",
              "      <td>17</td>\n",
              "      <td>42</td>\n",
              "      <td>0.065</td>\n",
              "      <td>9.527</td>\n",
              "      <td>0.97</td>\n",
              "      <td>1.00</td>\n",
              "      <td>1.97</td>\n",
              "      <td>78.81</td>\n",
              "      <td>71.92</td>\n",
              "      <td>0.98</td>\n",
              "    </tr>\n",
              "    <tr>\n",
              "      <th>7</th>\n",
              "      <td>10</td>\n",
              "      <td>30</td>\n",
              "      <td>0.048</td>\n",
              "      <td>9.269</td>\n",
              "      <td>1.00</td>\n",
              "      <td>0.96</td>\n",
              "      <td>1.96</td>\n",
              "      <td>40.66</td>\n",
              "      <td>62.88</td>\n",
              "      <td>0.98</td>\n",
              "    </tr>\n",
              "    <tr>\n",
              "      <th>8</th>\n",
              "      <td>32</td>\n",
              "      <td>46</td>\n",
              "      <td>0.006</td>\n",
              "      <td>6.274</td>\n",
              "      <td>0.95</td>\n",
              "      <td>1.00</td>\n",
              "      <td>1.95</td>\n",
              "      <td>48.77</td>\n",
              "      <td>27.98</td>\n",
              "      <td>0.97</td>\n",
              "    </tr>\n",
              "    <tr>\n",
              "      <th>9</th>\n",
              "      <td>24</td>\n",
              "      <td>38</td>\n",
              "      <td>0.021</td>\n",
              "      <td>87.508</td>\n",
              "      <td>1.00</td>\n",
              "      <td>0.95</td>\n",
              "      <td>1.95</td>\n",
              "      <td>207.66</td>\n",
              "      <td>619.64</td>\n",
              "      <td>0.96</td>\n",
              "    </tr>\n",
              "    <tr>\n",
              "      <th>10</th>\n",
              "      <td>38</td>\n",
              "      <td>39</td>\n",
              "      <td>0.003</td>\n",
              "      <td>86.985</td>\n",
              "      <td>0.95</td>\n",
              "      <td>1.00</td>\n",
              "      <td>1.95</td>\n",
              "      <td>619.64</td>\n",
              "      <td>193.86</td>\n",
              "      <td>0.96</td>\n",
              "    </tr>\n",
              "    <tr>\n",
              "      <th>11</th>\n",
              "      <td>19</td>\n",
              "      <td>38</td>\n",
              "      <td>0.014</td>\n",
              "      <td>86.839</td>\n",
              "      <td>1.00</td>\n",
              "      <td>0.94</td>\n",
              "      <td>1.94</td>\n",
              "      <td>234.98</td>\n",
              "      <td>619.64</td>\n",
              "      <td>0.96</td>\n",
              "    </tr>\n",
              "    <tr>\n",
              "      <th>12</th>\n",
              "      <td>8</td>\n",
              "      <td>38</td>\n",
              "      <td>0.004</td>\n",
              "      <td>87.285</td>\n",
              "      <td>1.00</td>\n",
              "      <td>0.91</td>\n",
              "      <td>1.91</td>\n",
              "      <td>222.38</td>\n",
              "      <td>619.64</td>\n",
              "      <td>0.93</td>\n",
              "    </tr>\n",
              "    <tr>\n",
              "      <th>13</th>\n",
              "      <td>15</td>\n",
              "      <td>29</td>\n",
              "      <td>0.010</td>\n",
              "      <td>18.760</td>\n",
              "      <td>1.00</td>\n",
              "      <td>0.90</td>\n",
              "      <td>1.90</td>\n",
              "      <td>45.41</td>\n",
              "      <td>151.12</td>\n",
              "      <td>0.92</td>\n",
              "    </tr>\n",
              "    <tr>\n",
              "      <th>14</th>\n",
              "      <td>10</td>\n",
              "      <td>46</td>\n",
              "      <td>0.010</td>\n",
              "      <td>6.293</td>\n",
              "      <td>0.89</td>\n",
              "      <td>1.00</td>\n",
              "      <td>1.89</td>\n",
              "      <td>40.66</td>\n",
              "      <td>27.98</td>\n",
              "      <td>0.93</td>\n",
              "    </tr>\n",
              "    <tr>\n",
              "      <th>15</th>\n",
              "      <td>1</td>\n",
              "      <td>2</td>\n",
              "      <td>0.010</td>\n",
              "      <td>42.667</td>\n",
              "      <td>1.00</td>\n",
              "      <td>0.87</td>\n",
              "      <td>1.87</td>\n",
              "      <td>106.66</td>\n",
              "      <td>140.58</td>\n",
              "      <td>0.93</td>\n",
              "    </tr>\n",
              "    <tr>\n",
              "      <th>16</th>\n",
              "      <td>4</td>\n",
              "      <td>30</td>\n",
              "      <td>0.104</td>\n",
              "      <td>10.330</td>\n",
              "      <td>0.81</td>\n",
              "      <td>1.00</td>\n",
              "      <td>1.81</td>\n",
              "      <td>88.24</td>\n",
              "      <td>62.88</td>\n",
              "      <td>0.89</td>\n",
              "    </tr>\n",
              "    <tr>\n",
              "      <th>17</th>\n",
              "      <td>4</td>\n",
              "      <td>10</td>\n",
              "      <td>0.110</td>\n",
              "      <td>9.650</td>\n",
              "      <td>0.81</td>\n",
              "      <td>1.00</td>\n",
              "      <td>1.81</td>\n",
              "      <td>88.24</td>\n",
              "      <td>40.66</td>\n",
              "      <td>0.87</td>\n",
              "    </tr>\n",
              "    <tr>\n",
              "      <th>18</th>\n",
              "      <td>10</td>\n",
              "      <td>32</td>\n",
              "      <td>0.012</td>\n",
              "      <td>9.243</td>\n",
              "      <td>0.89</td>\n",
              "      <td>0.90</td>\n",
              "      <td>1.79</td>\n",
              "      <td>40.66</td>\n",
              "      <td>48.77</td>\n",
              "      <td>0.90</td>\n",
              "    </tr>\n",
              "    <tr>\n",
              "      <th>19</th>\n",
              "      <td>30</td>\n",
              "      <td>42</td>\n",
              "      <td>0.086</td>\n",
              "      <td>10.358</td>\n",
              "      <td>1.00</td>\n",
              "      <td>0.76</td>\n",
              "      <td>1.76</td>\n",
              "      <td>62.88</td>\n",
              "      <td>71.92</td>\n",
              "      <td>0.87</td>\n",
              "    </tr>\n",
              "  </tbody>\n",
              "</table>\n",
              "</div>"
            ],
            "text/plain": [
              "    id_1  id_2  min_dist  max_dist  cov_1  cov_2   cov   len_1   len_2    sd\n",
              "0     24    39     0.014    87.724   1.00   1.00  2.00  207.66  193.86  1.00\n",
              "1      4    42     0.018     9.505   1.00   1.00  2.00   88.24   71.92  1.00\n",
              "2     19    39     0.015    87.049   1.00   1.00  2.00  234.98  193.86  1.00\n",
              "3     23    32     0.003     5.311   1.00   1.00  2.00   25.74   48.77  1.00\n",
              "4     19    24     0.017    87.453   0.99   1.00  1.99  234.98  207.66  0.99\n",
              "5      4    17     0.065     9.437   1.00   0.97  1.97   88.24   78.81  0.99\n",
              "6     17    42     0.065     9.527   0.97   1.00  1.97   78.81   71.92  0.98\n",
              "7     10    30     0.048     9.269   1.00   0.96  1.96   40.66   62.88  0.98\n",
              "8     32    46     0.006     6.274   0.95   1.00  1.95   48.77   27.98  0.97\n",
              "9     24    38     0.021    87.508   1.00   0.95  1.95  207.66  619.64  0.96\n",
              "10    38    39     0.003    86.985   0.95   1.00  1.95  619.64  193.86  0.96\n",
              "11    19    38     0.014    86.839   1.00   0.94  1.94  234.98  619.64  0.96\n",
              "12     8    38     0.004    87.285   1.00   0.91  1.91  222.38  619.64  0.93\n",
              "13    15    29     0.010    18.760   1.00   0.90  1.90   45.41  151.12  0.92\n",
              "14    10    46     0.010     6.293   0.89   1.00  1.89   40.66   27.98  0.93\n",
              "15     1     2     0.010    42.667   1.00   0.87  1.87  106.66  140.58  0.93\n",
              "16     4    30     0.104    10.330   0.81   1.00  1.81   88.24   62.88  0.89\n",
              "17     4    10     0.110     9.650   0.81   1.00  1.81   88.24   40.66  0.87\n",
              "18    10    32     0.012     9.243   0.89   0.90  1.79   40.66   48.77  0.90\n",
              "19    30    42     0.086    10.358   1.00   0.76  1.76   62.88   71.92  0.87"
            ]
          },
          "metadata": {
            "tags": []
          },
          "execution_count": 18
        }
      ]
    },
    {
      "cell_type": "code",
      "metadata": {
        "id": "o8PFAUVWeVIg",
        "colab_type": "code",
        "outputId": "b0c2ecf9-bed0-4005-b761-4f13c83cb7a8",
        "colab": {
          "base_uri": "https://localhost:8080/",
          "height": 148
        }
      },
      "source": [
        "pair = inspect(routes, distance_increment)\n",
        "pair(i=32, j=46, search_radius=1, step_km=1)\n",
        "\n",
        "def f(k):\n",
        "  return pair(32, 46, k, k)\n",
        "for k in [0.02, 0.05, 0.1, 0.5, 1, 2.5, 5]:\n",
        "  print(f(k))"
      ],
      "execution_count": 0,
      "outputs": [
        {
          "output_type": "stream",
          "text": [
            "{'min_dist': 0.0, 'max_dist': 7.271, 'cov_1': 0.36, 'cov_2': 0.5}\n",
            "{'min_dist': 0.0, 'max_dist': 7.265, 'cov_1': 0.45, 'cov_2': 0.52}\n",
            "{'min_dist': 0.001, 'max_dist': 7.26, 'cov_1': 0.49, 'cov_2': 0.59}\n",
            "{'min_dist': 0.005, 'max_dist': 7.271, 'cov_1': 0.77, 'cov_2': 0.68}\n",
            "{'min_dist': 0.012, 'max_dist': 7.089, 'cov_1': 0.83, 'cov_2': 0.79}\n",
            "{'min_dist': 0.006, 'max_dist': 6.274, 'cov_1': 0.9, 'cov_2': 1.0}\n",
            "{'min_dist': 0.02, 'max_dist': 5.688, 'cov_1': 1.0, 'cov_2': 1.0}\n"
          ],
          "name": "stdout"
        }
      ]
    },
    {
      "cell_type": "markdown",
      "metadata": {
        "id": "OECWZp3AGdE2",
        "colab_type": "text"
      },
      "source": [
        "# Графические функции"
      ]
    },
    {
      "cell_type": "code",
      "metadata": {
        "id": "ZGEzOsGc3J8j",
        "colab_type": "code",
        "colab": {}
      },
      "source": [
        "\"\"\"Графические функции для отрисовки треков\"\"\"\n",
        "\n",
        "import matplotlib.pyplot as plt\n",
        "from matplotlib import cm\n",
        "\n",
        "\n",
        "def get_color(i, n):\n",
        "    if n <= 10:\n",
        "        cmap = cm.get_cmap(name=\"tab10\")\n",
        "        return cmap(i)\n",
        "    else:\n",
        "        cmap = cm.get_cmap(name=\"jet\")\n",
        "        return cmap(i / n)\n",
        "\n",
        "\n",
        "def yield_trip_and_color(trips):\n",
        "    n = len(trips)\n",
        "    for i, t in enumerate(trips):\n",
        "        col = get_color(i, n)\n",
        "        yield t, col\n",
        "\n",
        "\n",
        "def make_plotter(axis_plotter_func):\n",
        "    def plotter(routes, ax=None, title=\"\"):\n",
        "        if ax is None:\n",
        "            f, ax = plt.subplots()\n",
        "        n = len(routes)\n",
        "        for i, r in enumerate(routes):\n",
        "            col = get_color(i, n)\n",
        "            axis_plotter_func(ax, r, col)\n",
        "        ax.set_title(title)\n",
        "        return ax\n",
        "\n",
        "    return plotter\n",
        "\n",
        "\n",
        "def scatter(ax, route, col):\n",
        "    ax.scatter(x=route.lon, y=route.lat, s=0.5, alpha=0.8, color=col)\n",
        "\n",
        "\n",
        "def segments(ax, route, col):\n",
        "    ax.plot(route.lon, route.lat, lw=1, alpha=0.8, linestyle=\":\", color=col)\n",
        "\n",
        "\n",
        "plot_points = make_plotter(scatter)\n",
        "plot_connections = make_plotter(segments)\n",
        "\n",
        "\n",
        "# Plot points:\n",
        "# ------------\n",
        "\n",
        "\n",
        "def plot_routes(routes, title=\"\", ax=None):\n",
        "    ax = plot_points(routes, ax)\n",
        "    plot_connections(routes, ax)\n",
        "\n",
        "\n",
        "def plot_raw_and_reduced(f1, f2, r1, r2, title=\"Общий заголовок\"):\n",
        "    fig, (ax1, ax2) = plt.subplots(\n",
        "        nrows=1, ncols=2, figsize=(10, 4), sharex=True, sharey=True\n",
        "    )\n",
        "    plot_routes([f1, f2], ax=ax1, title=\"Исходные треки\")\n",
        "    plot_routes([r1, r2], ax=ax2, title=\"Упрощенные треки\")\n",
        "    plt.suptitle(title)\n",
        "    # plt.show()\n",
        "\n",
        "\n",
        "def plot_two(trips, i: int, j: int, simplify_with=None):\n",
        "    \"\"\"Отрисовка пары маршрутов по индексам в выборке.\"\"\"\n",
        "    f1, f2 = trips[i].route, trips[j].route\n",
        "    if simplify_with:\n",
        "        r1, r2 = simplify_with(f1), simplify_with(f2)\n",
        "    else:\n",
        "        r1, r2 = f1, f2\n",
        "    title = f\"Поездки {i} и {j}\"\n",
        "    plot_raw_and_reduced(f1, f2, r1, r2, title)"
      ],
      "execution_count": 0,
      "outputs": []
    },
    {
      "cell_type": "markdown",
      "metadata": {
        "id": "HHU0lkdVHgxX",
        "colab_type": "text"
      },
      "source": [
        "## Пример"
      ]
    },
    {
      "cell_type": "code",
      "metadata": {
        "id": "azngBV6F-zUE",
        "colab_type": "code",
        "outputId": "5a1d0992-2568-4e19-c669-8d7438a0556e",
        "colab": {
          "base_uri": "https://localhost:8080/",
          "height": 284
        }
      },
      "source": [
        "plot(routes[10])"
      ],
      "execution_count": 0,
      "outputs": [
        {
          "output_type": "execute_result",
          "data": {
            "text/plain": [
              "<matplotlib.axes._subplots.AxesSubplot at 0x7f9de2939940>"
            ]
          },
          "metadata": {
            "tags": []
          },
          "execution_count": 21
        },
        {
          "output_type": "display_data",
          "data": {
            "image/png": "[encoded data removed]",
            "text/plain": [
              "<Figure size 432x288 with 1 Axes>"
            ]
          },
          "metadata": {
            "tags": [],
            "needs_background": "light"
          }
        }
      ]
    },
    {
      "cell_type": "markdown",
      "metadata": {
        "id": "AdpP8OEjKzos",
        "colab_type": "text"
      },
      "source": [
        ""
      ]
    }
  ]
}