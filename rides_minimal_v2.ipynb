{
  "nbformat": 4,
  "nbformat_minor": 0,
  "metadata": {
    "colab": {
      "name": "rides_minimal_v2.ipynb",
      "provenance": [],
      "collapsed_sections": [],
      "include_colab_link": true
    },
    "kernelspec": {
      "name": "python3",
      "display_name": "Python 3"
    }
  },
  "cells": [
    {
      "cell_type": "markdown",
      "metadata": {
        "id": "view-in-github",
        "colab_type": "text"
      },
      "source": [
        "<a href=\"https://colab.research.google.com/github/epogrebnyak/rides-minimal/blob/master/rides_minimal_v2.ipynb\" target=\"_parent\"><img src=\"https://colab.research.google.com/assets/colab-badge.svg\" alt=\"Open In Colab\"/></a>"
      ]
    },
    {
      "cell_type": "code",
      "metadata": {
        "id": "2JUJHFFz8tWZ",
        "colab_type": "code",
        "colab": {}
      },
      "source": [
        "import pathlib\n",
        "import json\n",
        "import os\n",
        "from dataclasses import dataclass\n",
        "from typing import List, Tuple, Generator, Callable\n",
        "\n",
        "import requests\n",
        "import pandas as pd\n",
        "import numpy as np\n",
        "\n",
        "from scipy.spatial.distance import cdist\n",
        "\n",
        "pd.set_option(\"mode.chained_assignment\", None)"
      ],
      "execution_count": 0,
      "outputs": []
    },
    {
      "cell_type": "markdown",
      "metadata": {
        "colab_type": "text",
        "id": "kzOzqwDxGhwM"
      },
      "source": [
        "# Подготовка данных"
      ]
    },
    {
      "cell_type": "markdown",
      "metadata": {
        "id": "NEVXSCF3zHpn",
        "colab_type": "text"
      },
      "source": [
        "## Функции для скачивания данных"
      ]
    },
    {
      "cell_type": "code",
      "metadata": {
        "id": "5yC1rqmbdfhz",
        "colab_type": "code",
        "colab": {}
      },
      "source": [
        "import pathlib\n",
        "import os\n",
        "import zipfile\n",
        "\n",
        "def make_filename(url):\n",
        "  return pathlib.Path(url.split(\"/\")[-1])\n",
        "\n",
        "def get_from_web(url, file:pathlib.Path):\n",
        "    r = requests.get(url)\n",
        "    file.write_bytes(r.content)\n",
        "    print(\"Downloaded\", file, \"from\", url)\n",
        "\n",
        "def download(url):\n",
        "  file = make_filename(url)\n",
        "  if file.exists():\n",
        "    print(\"File already exists:\", file)   \n",
        "  else: \n",
        "    get_from_web(url, file)\n",
        "  return str(file)\n",
        "\n",
        "def unzip(file, folder):        \n",
        "    print(\"Unpacking JSON files\")\n",
        "    with zipfile.ZipFile(file, 'r') as zip_ref:\n",
        "        zip_ref.extractall(folder)\n",
        "    print(\"Done unpacking JSON files to folder:\", folder)\n",
        "\n",
        "\n",
        "def download_and_unzip(url: str, destination_folder: str):\n",
        "  path = download(url)\n",
        "  if not os.path.exists(destination_folder):\n",
        "    os.mkdir(destination_folder)\n",
        "    unzip (path, destination_folder)\n",
        "  else:\n",
        "    print (\"Folder already exists:\", destination_folder)   \n",
        "  return destination_folder"
      ],
      "execution_count": 0,
      "outputs": []
    },
    {
      "cell_type": "markdown",
      "metadata": {
        "id": "Rig8mvW9Kbvc",
        "colab_type": "text"
      },
      "source": [
        "## Преобразование файлов JSON в CSV"
      ]
    },
    {
      "cell_type": "code",
      "metadata": {
        "id": "jl4LMiDa8tXH",
        "colab_type": "code",
        "colab": {}
      },
      "source": [
        "def iterate(directory: str):\n",
        "    for dict_ in yield_jsons(directory):\n",
        "        for p in dict_[\"data\"]:\n",
        "            car = dict_[\"info\"][\"car_id\"]\n",
        "            ride = dict_[\"info\"][\"id\"]\n",
        "            yield dict(time=p[0], lat=p[2], lon=p[1], car=car, ride=ride)\n",
        "\n",
        "\n",
        "def filenames(directory: str):\n",
        "    return list(pathlib.Path(directory).glob(\"*.json\"))\n",
        "\n",
        "\n",
        "def yield_jsons(directory: str):\n",
        "    for filename in filenames(directory):\n",
        "        yield load_json(filename)\n",
        "\n",
        "\n",
        "def load_json(filepath: str):\n",
        "    \"\"\"\"Load a JSON file content\"\"\"\n",
        "    with open(filepath, encoding=\"utf-8\") as f:\n",
        "        return json.load(f)\n",
        "\n",
        "\n",
        "def summaries(folder: str):\n",
        "    summary = lambda d: d[\"info\"] \n",
        "    return pd.DataFrame(map(summary, yield_jsons(folder)))\n",
        "\n",
        "\n",
        "def trackpoints(folder: str):\n",
        "    return pd.DataFrame(iterate(folder))\n",
        "\n",
        "\n",
        "def save(filename: str, getter: Callable, source_folder: str):\n",
        "  if not os.path.exists(filename):\n",
        "    print(\"Creating\", filename)\n",
        "    df = getter(source_folder)\n",
        "    df.to_csv(filename, index=False)\n",
        "    print(\"Saved\", filename)\n",
        "  print(\"File already exists:\", filename)  "
      ],
      "execution_count": 0,
      "outputs": []
    },
    {
      "cell_type": "markdown",
      "metadata": {
        "id": "b6wz91wLtFwf",
        "colab_type": "text"
      },
      "source": [
        "## Получить полный набор данных"
      ]
    },
    {
      "cell_type": "code",
      "metadata": {
        "id": "cmGtCMRLGyDs",
        "colab_type": "code",
        "colab": {}
      },
      "source": [
        "RAW_DATA_URL = (\"https://dl.dropboxusercontent.com\" \n",
        "                \"/sh/hibzl6fkzukltk9/AABTFmhvDvxyQdUaBsKl4h59a/\"\n",
        "                \"data_samples_json.zip\")"
      ],
      "execution_count": 0,
      "outputs": []
    },
    {
      "cell_type": "code",
      "metadata": {
        "id": "6JqynNC1G6ER",
        "colab_type": "code",
        "colab": {}
      },
      "source": [
        "JSON_FOLDER=\"data\" \n",
        "FULL_CSV=\"df_full.csv\"\n",
        "SUMMARY_CSV=\"summaries.csv\""
      ],
      "execution_count": 0,
      "outputs": []
    },
    {
      "cell_type": "code",
      "metadata": {
        "id": "7k6i_rYqiU9m",
        "colab_type": "code",
        "outputId": "a2060bc8-9bd2-4416-9873-205ef3abbc3e",
        "colab": {
          "base_uri": "https://localhost:8080/",
          "height": 205
        }
      },
      "source": [
        "download_and_unzip(url=RAW_DATA_URL, destination_folder=JSON_FOLDER)\n",
        "save(FULL_CSV, trackpoints, source_folder=JSON_FOLDER)\n",
        "save(SUMMARY_CSV, summaries, source_folder=JSON_FOLDER)"
      ],
      "execution_count": 9,
      "outputs": [
        {
          "output_type": "stream",
          "text": [
            "Downloaded data_samples_json.zip from https://dl.dropboxusercontent.com/sh/hibzl6fkzukltk9/AABTFmhvDvxyQdUaBsKl4h59a/data_samples_json.zip\n",
            "Unpacking JSON files\n",
            "Done unpacking JSON files to folder: data\n",
            "Creating df_full.csv\n",
            "Saved df_full.csv\n",
            "File already exists: df_full.csv\n",
            "Creating summaries.csv\n",
            "Saved summaries.csv\n",
            "File already exists: summaries.csv\n"
          ],
          "name": "stdout"
        }
      ]
    },
    {
      "cell_type": "markdown",
      "metadata": {
        "id": "3i3QrJ-yGFDI",
        "colab_type": "text"
      },
      "source": [
        "В результате мы получаем два файла `df_full.csv` и `summaries.csv`, которые содержат необходимую информацию из исходных файлов в формате JSON, которые мы скачали по ссылке `RAW_DATA_URL`. Если файлы уже созданы в сессии, они пересоздаваться не будут."
      ]
    },
    {
      "cell_type": "markdown",
      "metadata": {
        "id": "BxBO0ljuop6d",
        "colab_type": "text"
      },
      "source": [
        "\n",
        "# Функции для импорта данных"
      ]
    },
    {
      "cell_type": "code",
      "metadata": {
        "id": "vJpY4rpWq7JM",
        "colab_type": "code",
        "colab": {}
      },
      "source": [
        "def get_date(df):\n",
        "  dt = lambda x: str(pd.Timestamp(x, unit=\"s\").date())\n",
        "  return df.time.apply(dt)\n",
        "\n",
        "def get_dataframe(filename, **kwargs):\n",
        "  df_full = pd.read_csv(filename, \n",
        "            usecols=[\"car\", \"time\", \"lat\", \"lon\"],\n",
        "            **kwargs)\n",
        "  df_full[\"date\"] = get_date(df_full)\n",
        "  return df_full[[\"car\", \"date\", \"time\", \"lat\", \"lon\"]]"
      ],
      "execution_count": 0,
      "outputs": []
    },
    {
      "cell_type": "markdown",
      "metadata": {
        "colab_type": "text",
        "id": "p3sF5QvGGppy"
      },
      "source": [
        "# Вспомогательные функции"
      ]
    },
    {
      "cell_type": "markdown",
      "metadata": {
        "colab_type": "text",
        "id": "jbVrRpeiI-Bx"
      },
      "source": [
        "## Комбинации из n по 2"
      ]
    },
    {
      "cell_type": "code",
      "metadata": {
        "id": "gKHqFndj8tXk",
        "colab_type": "code",
        "colab": {}
      },
      "source": [
        "from itertools import combinations\n",
        "\n",
        "def get_combinations(n: int) -> List[Tuple[int, int]]:\n",
        "    \"\"\"Выбор комбинаций из n по 2.\"\"\"\n",
        "    return [(i, j) for i, j in combinations(range(n), 2)]\n",
        "\n",
        "def count_combinations(n: int) -> int:\n",
        "    return len(list(get_combinations(n)))"
      ],
      "execution_count": 0,
      "outputs": []
    },
    {
      "cell_type": "markdown",
      "metadata": {
        "colab_type": "text",
        "id": "s-FwrJbUJDAj"
      },
      "source": [
        "## Функции расстояний"
      ]
    },
    {
      "cell_type": "code",
      "metadata": {
        "id": "k-2qmECr8tXx",
        "colab_type": "code",
        "colab": {}
      },
      "source": [
        "from geopy.distance import great_circle\n",
        "\n",
        "def distance_km(a: tuple, b: tuple):\n",
        "    # great_circle() менее точен, но быстрее чем geopy.distance.distance\n",
        "    # https://geopy.readthedocs.io/en/stable/#module-geopy.distance\n",
        "    return great_circle(a, b).km\n",
        "\n",
        "Coord = Tuple[float, float]\n",
        "\n",
        "# используется с distance_delta\n",
        "def safe_distance(a: Coord, b: Coord) -> float:\n",
        "  #if not isinstance(b, tuple): # catch NaN\n",
        "  #  return 0\n",
        "  if a == b:\n",
        "    return 0  \n",
        "  try:  \n",
        "    return distance_km(a, b)\n",
        "  except ValueError:\n",
        "    return np.nan\n",
        "        \n",
        "\n",
        "# используется с cdist\n",
        "def safe_distance_2(a: Coord, b: Coord) -> float:    \n",
        "    x1, y1 = a\n",
        "    x2, y2 = b\n",
        "    if np.isnan(x1) or np.isnan(x2):\n",
        "        return np.nan\n",
        "    else:\n",
        "        return round(distance_km(a, b), 9)"
      ],
      "execution_count": 0,
      "outputs": []
    },
    {
      "cell_type": "markdown",
      "metadata": {
        "colab_type": "text",
        "id": "r6u1hZFSX9Xv"
      },
      "source": [
        "## Кэширование длинных расчетов\n"
      ]
    },
    {
      "cell_type": "code",
      "metadata": {
        "id": "JFLMzlR48tYG",
        "colab_type": "code",
        "colab": {}
      },
      "source": [
        "def from_cache(filename: str, getter: Callable):\n",
        "  \"\"\"Прочитать объект из *filename* или\n",
        "     создать объект с помощью getter и сохранить \n",
        "     его в *filename*.\n",
        "     Возвращает значение getter().\n",
        "  \"\"\"\n",
        "  import json, os  \n",
        "  if os.path.exists(filename):\n",
        "    with open(filename, \"r\") as f:\n",
        "        return json.load(f)\n",
        "  else:     \n",
        "    content = getter()\n",
        "    with open(filename, \"w\") as f:\n",
        "        json.dump(content, f)\n",
        "    return content"
      ],
      "execution_count": 0,
      "outputs": []
    },
    {
      "cell_type": "markdown",
      "metadata": {
        "id": "Tip1Fr6yDkPj",
        "colab_type": "text"
      },
      "source": [
        "## Определить тип автомобиля "
      ]
    },
    {
      "cell_type": "code",
      "metadata": {
        "id": "kHeMzf7hCgfe",
        "colab_type": "code",
        "colab": {}
      },
      "source": [
        "def vehicle_type_dataframe(cars: pd.DataFrame):\n",
        "    \"\"\"Разобрать машины по типам:\n",
        "       - bus        \n",
        "       - passenger\n",
        "       - freight\n",
        "       - special\n",
        "    \"\"\"\n",
        "\n",
        "    def has(string):\n",
        "        return lambda s: string in s\n",
        "\n",
        "    cars[\"type\"] = \"other\"\n",
        "    # bus\n",
        "    cars.loc[cars.car_passengers >= 8, \"type\"] = \"bus\"\n",
        "    # passenger\n",
        "    ax = (cars.category == \"Специальный\\\\Автобус \") & (cars.type == \"other\")\n",
        "    bx = cars.category.apply(has(\"Легковой\")) & (cars.type == \"other\")\n",
        "    cars.loc[(ax | bx), \"type\"] = \"passenger\"\n",
        "    # freight\n",
        "    ix = cars.category.apply(has(\"Грузовой\"))\n",
        "    cars.loc[ix, \"type\"] = \"freight\"\n",
        "    # special\n",
        "    ax = cars.category.apply(has(\"Специальный\")) & (cars.type == \"other\")\n",
        "    bx = cars.category == \"Строительный\\\\Автокран\"\n",
        "    cars.loc[(ax | bx), \"type\"] = \"special\"\n",
        "    assert len(cars[cars.type == \"other\"].category.unique()) == 0\n",
        "    return cars.type"
      ],
      "execution_count": 0,
      "outputs": []
    },
    {
      "cell_type": "code",
      "metadata": {
        "id": "Pj8C5PVTFBJK",
        "colab_type": "code",
        "colab": {}
      },
      "source": [
        "def all_cars(source=SUMMARY_CSV):\n",
        "  return (pd.read_csv(source)\n",
        "    .groupby(\"car_id\")\n",
        "    .first())\n",
        "  \n",
        "VEHILCES = vehicle_type_dataframe(all_cars())\n",
        "\n",
        "def vehilce_type(car_id: str):\n",
        "  return VEHILCES.loc[car_id] \n",
        "\n",
        "assert 'freight' == vehilce_type(\"76727d5c-628d-4bcf-a24a-e5cf8a713426\")"
      ],
      "execution_count": 0,
      "outputs": []
    },
    {
      "cell_type": "markdown",
      "metadata": {
        "colab_type": "text",
        "id": "h9NBjHRpJSU8"
      },
      "source": [
        "# Список треков"
      ]
    },
    {
      "cell_type": "markdown",
      "metadata": {
        "id": "jxIOWLXKLJcG",
        "colab_type": "text"
      },
      "source": [
        "## Создание списка треков из датафрейма"
      ]
    },
    {
      "cell_type": "code",
      "metadata": {
        "id": "xw1vDnLZLdwi",
        "colab_type": "code",
        "colab": {}
      },
      "source": [
        "@dataclass\n",
        "class Trip:\n",
        "    car: str\n",
        "    date: str\n",
        "\n",
        "class Route(pd.DataFrame):\n",
        "    pass\n",
        "\n",
        "def coord(df: pd.DataFrame):\n",
        "    return list(zip(df.lat, df.lon))\n",
        "\n",
        "def make_route(df: pd.DataFrame) -> Route:\n",
        "    res = df[[\"time\", \"lat\", \"lon\"]]\n",
        "    res['coord'] = coord(df)\n",
        "    return res.sort_values(\"time\")"
      ],
      "execution_count": 0,
      "outputs": []
    },
    {
      "cell_type": "code",
      "metadata": {
        "id": "TQrMY1vv8tYU",
        "colab_type": "code",
        "colab": {}
      },
      "source": [
        "def get_trips_and_routes(df: pd.DataFrame) -> (List[Trip], List[Route]):\n",
        "    \"\"\"\n",
        "    Преобразуем датафрейм в список поездок.\n",
        "    \"\"\"\n",
        "    trips = []\n",
        "    routes = []\n",
        "    for date in df.date.unique():\n",
        "        for car in df.car.unique():\n",
        "            ix = (df.car == car) & (df.date == date)\n",
        "            carday = df[ix]\n",
        "            if not carday.empty:\n",
        "              trips.append(Trip(car, str(date)))\n",
        "              route = make_route(carday)\n",
        "              routes.append(route)\n",
        "    return trips, routes\n",
        "\n",
        "def make_trips_dataframe(trips: List[Trip]):\n",
        "    return pd.DataFrame(t.__dict__ for t in trips)  "
      ],
      "execution_count": 0,
      "outputs": []
    },
    {
      "cell_type": "markdown",
      "metadata": {
        "id": "D4EzD0kc106j",
        "colab_type": "text"
      },
      "source": [
        "## Работа с треком"
      ]
    },
    {
      "cell_type": "code",
      "metadata": {
        "id": "BxbhbJx81-Em",
        "colab_type": "code",
        "colab": {}
      },
      "source": [
        "def duration_acc(df: pd.DataFrame) -> pd.DataFrame:\n",
        "    return (df.time - df.time.iloc[0]) / 60\n",
        "\n",
        "\n",
        "def time_deltas(df: pd.DataFrame) -> pd.DataFrame:\n",
        "    return df.time.diff()\n",
        "\n",
        "\n",
        "def distance_deltas(df: pd.DataFrame) -> pd.DataFrame:\n",
        "    res = df.copy()\n",
        "    res[\"prev_coord\"] = res.coord.shift(1)\n",
        "    return res.apply(lambda x: safe_distance(x.coord, x.prev_coord), axis=1)\n",
        "\n",
        "\n",
        "def milage_acc(df: pd.DataFrame) -> pd.DataFrame:\n",
        "    return distance_deltas(df).cumsum().fillna(0)\n",
        "\n",
        "\n",
        "def milage(route) -> float:\n",
        "    return round(milage_acc(route).iloc[-1], 2)\n",
        "\n",
        "\n",
        "def points(route_df: Route) -> np.ndarray:\n",
        "    return np.array(route_df.coord.to_list())\n",
        "\n",
        "\n",
        "def date(route):\n",
        "    return route.iloc[0].time.date()\n",
        "\n",
        "\n",
        "def timestamp(x):\n",
        "    return pd.Timestamp(x, unit=\"s\")\n",
        "\n",
        "\n",
        "def nth_timestamp(route, n):\n",
        "  return timestamp(route.iloc[n].time)\n",
        "\n",
        "\n",
        "def start_time(route):\n",
        "    return nth_timestamp(route, 0)\n",
        "    \n",
        "\n",
        "def end_time(route):\n",
        "    return nth_timestamp(route, -1)"
      ],
      "execution_count": 0,
      "outputs": []
    },
    {
      "cell_type": "markdown",
      "metadata": {
        "colab_type": "text",
        "id": "1eAmqT9DJfiy"
      },
      "source": [
        "#  Функции апроксимации трека\n",
        "\n"
      ]
    },
    {
      "cell_type": "markdown",
      "metadata": {
        "id": "5yQzKuAGZlbb",
        "colab_type": "text"
      },
      "source": [
        "## Задается количество точек апрокимации на трек"
      ]
    },
    {
      "cell_type": "code",
      "metadata": {
        "id": "u0r0rh2oZz01",
        "colab_type": "code",
        "colab": {}
      },
      "source": [
        "def true_quantile(xs, q):\n",
        "  \"\"\"Квантиль накопленной суммы чисел xs без учета повторов. \n",
        "     \n",
        "     np.quantile дает неправильный для нас реузльтат:\n",
        "     np.quantile(xs, 0.9) может быть равно len(xs),\n",
        "     если в хвосте xs много повторов.\n",
        "  \"\"\" \n",
        "  assert 0 <= q <= 1\n",
        "  end_value = xs[-1] * q\n",
        "  is_smaller = lambda x: 1 if x <= end_value else 0  \n",
        "  return sum(map(is_smaller, xs))\n",
        "\n",
        "def where(xs, q):\n",
        "    i = true_quantile(xs, q)    \n",
        "    return np.searchsorted(xs, xs[i], side=\"left\")\n",
        "\n",
        "def find_index_one(xs: List, q: float) -> int:\n",
        "    \"\"\"Перестраховываемся по сравнению с where.\"\"\" \n",
        "    if q == 0:\n",
        "        return 0\n",
        "    if q == 1:\n",
        "        return -1\n",
        "    return where(xs, q)    \n",
        "\n",
        "def find_index(xs: List, n_segments: int) -> List[int]:\n",
        "    qs = np.linspace(0, 1, n_segments+1)\n",
        "    return [find_index_one(xs, q) for q in qs]\n",
        "\n",
        "def n_segments_by(n: int, route: Route, acc_with: Callable):\n",
        "    xs = acc_with(route).tolist()\n",
        "    ix = find_index(xs, n)\n",
        "    return route.iloc[ix]\n",
        "\n",
        "def n_segments_by_distance_(n: int, route: Route):\n",
        "    return n_segments_by(n, route, milage_acc)\n",
        "\n",
        "def n_segments_by_distance(n: int):\n",
        "    return lambda route: n_segments_by_distance_(n, route)\n",
        "\n",
        "def n_segments_by_time_(n: int, route: Route):\n",
        "    return n_segments_by(n, route, duration_acc)\n",
        "\n",
        "def n_segments_by_time(n: int):\n",
        "    return lambda route: n_segments_by_time_(n, route)\n",
        "\n",
        "\n",
        "#r = pd.read_csv(\"r1.csv\")\n",
        "#xs = [x for x in milage_acc(r)]\n",
        "#linspace(10), find_index(xs, 10),\n",
        "#true_quantile(xs, .2)    \n",
        "#find_index_one(xs, 1)\n",
        "\n",
        "#r.sample(10).coord#distance_deltas()\n",
        "#a = (54.644335999999996, 22.734314)\n",
        "#b = (54.59284, 22.178588)\n",
        "#distance_km(a,b)"
      ],
      "execution_count": 0,
      "outputs": []
    },
    {
      "cell_type": "markdown",
      "metadata": {
        "id": "3U0tHQJagLrS",
        "colab_type": "text"
      },
      "source": [
        "## Задается шаг апрокисмации трека (в км или минутах)"
      ]
    },
    {
      "cell_type": "code",
      "metadata": {
        "id": "gBigQA3t8tYn",
        "colab_type": "code",
        "colab": {}
      },
      "source": [
        "def growing_index(xs, step):\n",
        "    xs = [x for x in xs]\n",
        "    result = [0]  # will include start point\n",
        "    current = xs[0]\n",
        "    for i, x in enumerate(xs):\n",
        "        accumulated = x - current\n",
        "        if accumulated >= step:\n",
        "            result.append(i)\n",
        "            accumulated = 0\n",
        "            current = x\n",
        "    n = len(xs) - 1\n",
        "    if result[-1] != n: # will include end point\n",
        "        result.append(n)\n",
        "    return result\n",
        "\n",
        "def time_increment_(minutes: int, route: Route):\n",
        "    xs = duration_acc(route)\n",
        "    ix = growing_index(xs, minutes)\n",
        "    return route.iloc[ix]\n",
        "\n",
        "\n",
        "def time_increment(minutes):\n",
        "    return lambda route: time_increment_(minutes, route)\n",
        "\n",
        "\n",
        "def distance_increment_(step_km: float, route: Route):\n",
        "    xs = milage_acc(route)\n",
        "    ix = growing_index(xs, step_km)\n",
        "    return route.iloc[ix]\n",
        "\n",
        "\n",
        "def distance_increment(step_km: float):\n",
        "    return lambda route: distance_increment_(step_km, route)"
      ],
      "execution_count": 0,
      "outputs": []
    },
    {
      "cell_type": "markdown",
      "metadata": {
        "id": "4vXxODcDh5tf",
        "colab_type": "text"
      },
      "source": [
        "## Другие апроксимации\n",
        "\n",
        "- [ ] по астрономическому времени (есть в ноутбке `rides2`)\n",
        "- [ ] по остановкам (есть в \"тяжелом\" алгоритме)"
      ]
    },
    {
      "cell_type": "markdown",
      "metadata": {
        "colab_type": "text",
        "id": "9rYi2tbw2HWt"
      },
      "source": [
        "# Поиск сходимости"
      ]
    },
    {
      "cell_type": "markdown",
      "metadata": {
        "colab_type": "text",
        "id": "oUA80kndJ8nL"
      },
      "source": [
        "## Матрица расстояний между точками двух треков\n",
        "\n"
      ]
    },
    {
      "cell_type": "code",
      "metadata": {
        "id": "kZvPCgRK8tY8",
        "colab_type": "code",
        "colab": {}
      },
      "source": [
        "def proximity(r1, r2):\n",
        "    mat = cdist(points(r1), points(r2), safe_distance_2)\n",
        "    return Proximity(mat)\n",
        "\n",
        "@dataclass\n",
        "class Proximity:\n",
        "    \"\"\"Матрица расстояний между двумя треками.\"\"\"\n",
        "\n",
        "    mat: np.ndarray\n",
        "\n",
        "    def min(self):\n",
        "        \"\"\"\n",
        "    Минимиальное расстояние между всеми точками двух треков.\n",
        "    \"\"\"\n",
        "        return round(np.nanmin(self.mat), 3)\n",
        "\n",
        "    def max(self):\n",
        "        \"\"\"\n",
        "    Максимальное расстояние между всеми точками двух треков.\n",
        "    \"\"\"\n",
        "        return round(np.amax(self.mat), 3)\n",
        "\n",
        "    def side_min(self, axis: int):\n",
        "        # 1 is to search by columns - applies to searching minima for 1st route\n",
        "        # 0 is to search by rows - applies to searching minima for 2nd route\n",
        "        x = np.nanmin(self.mat, axis)\n",
        "        return x[~np.isnan(x)]\n",
        "\n",
        "    def coverages(self):\n",
        "        return Coverage(self.side_min(1)), Coverage(self.side_min(0))\n",
        "\n",
        "    def report(self, search_radius: float):\n",
        "      c1, c2 = self.coverages()\n",
        "      return dict(\n",
        "                min_dist=self.min(),\n",
        "                max_dist=self.max(),\n",
        "                cov_1=c1.coverage(search_radius),\n",
        "                cov_2=c2.coverage(search_radius),\n",
        "            )    \n",
        "\n",
        "\n",
        "@dataclass\n",
        "class Coverage:\n",
        "    \"\"\"Для каждой точки выбранного трека посчитано \n",
        "       минимальное из расстояний до точек другого трека.\n",
        "       \n",
        "       Если в треке 10 точек, то минимальных расстояний \n",
        "       до другого трека будет 10.\n",
        "       \n",
        "       Мы выбираем те из расстояний, которые меньше заданного \n",
        "       порога(радиуса) сближения.\n",
        "              \n",
        "       Предположим в треке 10 точек и минимальные расстояния до \n",
        "       фигуры второго трека такие:\n",
        "       \n",
        "       >> mins = [21.2, 22.6, 17.6, 7.7, 2.7, 0.3, 0.4, 0.6, 0.2, 3.1]\n",
        "       \n",
        "       Тогда \"сблизившимися\" с другим треков при радиусе точности 1 \n",
        "       мы считаем 4 точки:\n",
        "       \n",
        "       >> radius = 1           \n",
        "       >> [x for x in mins if x < radius]\n",
        "       [0.3, 0.4, 0.6, 0.2]\n",
        "       \n",
        "       Коэффциент перекрытия составляет 4/10 = 40%. \n",
        "       \n",
        "       Он показывает, что 40% точек данного трека\n",
        "       находились на расстоянии не более чем *radius*\n",
        "       от какой-то точки другого трека.\n",
        "       \n",
        "       Замечания:\n",
        "       \n",
        "       - Коэффциент перекрытия (КП) может интепретироваться как \n",
        "         часть пути, если отрезки между точками равные. \n",
        "         \n",
        "       - Значение коэффциента перекрытия зависит от точности \n",
        "         апроксимации трека и радиуса.       \n",
        "         \n",
        "       - Треки могут иметь сложную форму, высокий КП не гарантирует,\n",
        "         что доставку по одному треку можно переложить на другой трек.\n",
        "         Но при низких КП это заведомо невозможно.\n",
        "         \n",
        "       - Нулевой КП - машины ездили в разных местах.  \n",
        "         \n",
        "    \"\"\"\n",
        "\n",
        "    mins: np.ndarray\n",
        "\n",
        "    def in_proximity(self, radius: float):\n",
        "        \"\"\"\n",
        "           Количество точек с минимальными расстояниями до другого трека.\n",
        "           Минималаьное расстояние - это расстояние, величина которого\n",
        "           меньше заданного радиуса сближения.\n",
        "        \"\"\"\n",
        "        return (self.mins < radius).sum() #self.mins[self.mins < radius]\n",
        "\n",
        "    def coverage(self, radius: float):\n",
        "        \"\"\"\n",
        "           Коэффициент перекрытия - доля трека, которая находится \n",
        "           на расстоянии не более заданного радиуса от другого трека.\n",
        "        \"\"\"\n",
        "        return round(self.in_proximity(radius) / len(self.mins), 2)"
      ],
      "execution_count": 0,
      "outputs": []
    },
    {
      "cell_type": "markdown",
      "metadata": {
        "colab_type": "text",
        "id": "bHAhtNLHKZ-M"
      },
      "source": [
        "## Функции поиска сходимости\n",
        "\n",
        "\n",
        "\n"
      ]
    },
    {
      "cell_type": "code",
      "metadata": {
        "id": "SvCsDyRm8tZJ",
        "colab_type": "code",
        "colab": {}
      },
      "source": [
        "def inspect(routes, simplify_with=distance_increment):\n",
        "  def pair(i, j, search_radius, *arg, **kwarg):\n",
        "      f = simplify_with(*arg, **kwarg)\n",
        "      r1 = f(routes[i])\n",
        "      r2 = f(routes[j])\n",
        "      return proximity(r1, r2).report(search_radius)\n",
        "  return pair\n",
        "\n",
        "def search(\n",
        "    routes: List[Route],\n",
        "    simplify_with: Callable,\n",
        "    search_radius_1: float,\n",
        "    refine_with = Callable,\n",
        "    search_radius_2 = float,\n",
        "    limit=None,\n",
        "):\n",
        "\n",
        "    # Урезаем для демо-примеров\n",
        "    if limit:\n",
        "        routes = routes[0:limit]\n",
        "        print(f\"Trimmed dataset to {limit} pairs\")\n",
        "\n",
        "    m = len(routes)\n",
        "    print(f\"{count_combinations(m)} pairs are possible for {m} routes\")\n",
        "\n",
        "    # Грубая апроксимация треков    \n",
        "    print(f\"Simplified {m} routes\")\n",
        "    rough_routes = [simplify_with(route) for route in routes]\n",
        "\n",
        "    def prox(i, j):  # замыкание для удобного доступа к routes\n",
        "        return proximity(rough_routes[i], rough_routes[j])\n",
        "\n",
        "    # Выбор пересекающися пар\n",
        "    pairs = [(i,j) for (i,j) in get_combinations(m) \n",
        "              if prox(i,j).min() < search_radius_1]\n",
        "    print(f\"Found {len(pairs)} pairs of intersecting routes\")\n",
        "\n",
        "    # Уточняем апроксимацию треков   \n",
        "    def members(pairs):\n",
        "      from itertools import chain\n",
        "      return set(chain.from_iterable(pairs))\n",
        "\n",
        "    refined_routes = list(range(m)) \n",
        "    for k, i in enumerate(members(pairs)):\n",
        "        refined_routes[i] = refine_with(routes[i])\n",
        "    print(f\"Made better approximation of {k} routes\")\n",
        "    print(\"Calculating distances between routes and reporting...\")\n",
        "\n",
        "    # Считаем перекрытие треков в пересекающися парах\n",
        "    from tqdm import tqdm\n",
        "    result = []\n",
        "    for (i, j) in tqdm(pairs):\n",
        "        p = proximity(refined_routes[i], refined_routes[j])\n",
        "        if p.min() < search_radius_1:\n",
        "            d = dict(\n",
        "                id_1=i, \n",
        "                id_2=j,\n",
        "                **p.report(search_radius_2)\n",
        "            )\n",
        "            result.append(d)\n",
        "    return result"
      ],
      "execution_count": 0,
      "outputs": []
    },
    {
      "cell_type": "markdown",
      "metadata": {
        "colab_type": "text",
        "id": "nA2yojipG3cD"
      },
      "source": [
        "# Пример расчетов"
      ]
    },
    {
      "cell_type": "markdown",
      "metadata": {
        "id": "179xstZH_JkW",
        "colab_type": "text"
      },
      "source": [
        "### Получаем данные"
      ]
    },
    {
      "cell_type": "code",
      "metadata": {
        "id": "1XTBOKocHWZz",
        "colab_type": "code",
        "colab": {}
      },
      "source": [
        "# Получаем полный массив исходных данных\n",
        "try:\n",
        "  df_full\n",
        "except NameError:    \n",
        "  df_full = get_dataframe(FULL_CSV)"
      ],
      "execution_count": 0,
      "outputs": []
    },
    {
      "cell_type": "code",
      "metadata": {
        "id": "3z81koH7HqdP",
        "colab_type": "code",
        "outputId": "e174be72-9b6f-4791-bf0c-835774c4522a",
        "colab": {
          "base_uri": "https://localhost:8080/",
          "height": 36
        }
      },
      "source": [
        "days = ['2019-09-09']\n",
        "types = ['freight']\n",
        "\n",
        "# 1. Создаем выборку треков по дням и типам машин и упрощаем ее \n",
        "def subset(df, days, types):\n",
        "  ix = df_full.date.isin(days)\n",
        "  res = df_full[ix]\n",
        "  kx = res.car.apply(vehilce_type).isin(types)\n",
        "  return res[kx]\n",
        "subset_df = subset(df_full, days, types)\n",
        "\n",
        "# 2. Преобразуем датафрейм в список поедок\n",
        "trips, routes = get_trips_and_routes(subset_df)\n",
        "len(trips)  "
      ],
      "execution_count": 24,
      "outputs": [
        {
          "output_type": "execute_result",
          "data": {
            "text/plain": [
              "46"
            ]
          },
          "metadata": {
            "tags": []
          },
          "execution_count": 24
        }
      ]
    },
    {
      "cell_type": "code",
      "metadata": {
        "id": "X1-rLNH38tZa",
        "colab_type": "code",
        "outputId": "8ed82965-414b-46aa-9728-a9fe5caae52a",
        "colab": {
          "base_uri": "https://localhost:8080/",
          "height": 74
        }
      },
      "source": [
        "# Пробег по поездкам\n",
        "milages = [milage(r) for r in routes]"
      ],
      "execution_count": 25,
      "outputs": [
        {
          "output_type": "stream",
          "text": [
            "/usr/local/lib/python3.6/dist-packages/geopy/point.py:180: UserWarning: A single number has been passed to the Point constructor. This is probably a mistake, because constructing a Point with just a latitude seems senseless. If this is exactly what was meant, then pass the zero longitude explicitly to get rid of this warning.\n",
            "  UserWarning)\n"
          ],
          "name": "stderr"
        }
      ]
    },
    {
      "cell_type": "code",
      "metadata": {
        "id": "Q8BkKz0xXpXM",
        "colab_type": "code",
        "colab": {}
      },
      "source": [
        "gen = [dict(car=t.car, \n",
        "            start=start_time(r),\n",
        "            end=end_time(r),\n",
        "            km=m) \n",
        "       for (t, r, m) in zip(trips, routes, milages)]\n",
        "pd.DataFrame(gen).to_csv(\"trips.csv\")"
      ],
      "execution_count": 0,
      "outputs": []
    },
    {
      "cell_type": "markdown",
      "metadata": {
        "id": "Wf9TgvlPZYIc",
        "colab_type": "text"
      },
      "source": [
        "## ДеБАГ"
      ]
    },
    {
      "cell_type": "code",
      "metadata": {
        "id": "1DP0cXX4d5mq",
        "colab_type": "code",
        "colab": {}
      },
      "source": [
        "r = routes[1]\n"
      ],
      "execution_count": 0,
      "outputs": []
    },
    {
      "cell_type": "code",
      "metadata": {
        "id": "GN9JraNMdrqq",
        "colab_type": "code",
        "outputId": "344fa2a8-3d8e-4473-ca39-e32f1308e89c",
        "colab": {
          "base_uri": "https://localhost:8080/",
          "height": 935
        }
      },
      "source": [
        "for i, r in enumerate(routes):\n",
        "  print(i)\n",
        "  n_segments_by_distance(n=10)(r)"
      ],
      "execution_count": 28,
      "outputs": [
        {
          "output_type": "stream",
          "text": [
            "0\n"
          ],
          "name": "stdout"
        },
        {
          "output_type": "stream",
          "text": [
            "/usr/local/lib/python3.6/dist-packages/geopy/point.py:180: UserWarning: A single number has been passed to the Point constructor. This is probably a mistake, because constructing a Point with just a latitude seems senseless. If this is exactly what was meant, then pass the zero longitude explicitly to get rid of this warning.\n",
            "  UserWarning)\n"
          ],
          "name": "stderr"
        },
        {
          "output_type": "stream",
          "text": [
            "1\n",
            "2\n",
            "3\n",
            "4\n",
            "5\n",
            "6\n",
            "7\n",
            "8\n",
            "9\n",
            "10\n",
            "11\n",
            "12\n",
            "13\n",
            "14\n",
            "15\n",
            "16\n",
            "17\n",
            "18\n",
            "19\n",
            "20\n",
            "21\n",
            "22\n",
            "23\n",
            "24\n",
            "25\n",
            "26\n",
            "27\n",
            "28\n",
            "29\n",
            "30\n",
            "31\n",
            "32\n",
            "33\n",
            "34\n",
            "35\n",
            "36\n",
            "37\n",
            "38\n",
            "39\n",
            "40\n",
            "41\n",
            "42\n",
            "43\n",
            "44\n",
            "45\n"
          ],
          "name": "stdout"
        }
      ]
    },
    {
      "cell_type": "markdown",
      "metadata": {
        "id": "3TOXvFJz8tZh",
        "colab_type": "text"
      },
      "source": [
        "### Поиск близких пар"
      ]
    },
    {
      "cell_type": "code",
      "metadata": {
        "id": "ezlDJLfv8tZi",
        "colab_type": "code",
        "outputId": "00f1072e-7e58-4940-f6fd-8e053a6e975c",
        "colab": {
          "base_uri": "https://localhost:8080/",
          "height": 187
        }
      },
      "source": [
        "# Расчет попарных характеристик поездок\n",
        "\n",
        "def default_search(routes: List[Route], limit=None):\n",
        "   return search( \n",
        "    routes,\n",
        "    simplify_with = n_segments_by_distance(n=10),\n",
        "    search_radius_1 = 10,\n",
        "    refine_with = distance_increment(step_km=2.5),\n",
        "    search_radius_2 = 2.5 * 1.2,\n",
        "    limit=limit,\n",
        ")   \n",
        "result_dicts = default_search(routes, limit=None)"
      ],
      "execution_count": 29,
      "outputs": [
        {
          "output_type": "stream",
          "text": [
            "1035 pairs are possible for 46 routes\n",
            "Simplified 46 routes\n"
          ],
          "name": "stdout"
        },
        {
          "output_type": "stream",
          "text": [
            "/usr/local/lib/python3.6/dist-packages/geopy/point.py:180: UserWarning: A single number has been passed to the Point constructor. This is probably a mistake, because constructing a Point with just a latitude seems senseless. If this is exactly what was meant, then pass the zero longitude explicitly to get rid of this warning.\n",
            "  UserWarning)\n"
          ],
          "name": "stderr"
        },
        {
          "output_type": "stream",
          "text": [
            "Found 488 pairs of intersecting routes\n"
          ],
          "name": "stdout"
        },
        {
          "output_type": "stream",
          "text": [
            "  0%|          | 1/488 [00:00<01:27,  5.59it/s]"
          ],
          "name": "stderr"
        },
        {
          "output_type": "stream",
          "text": [
            "Made better approximation of 45 routes\n",
            "Calculating distances between routes and reporting...\n"
          ],
          "name": "stdout"
        },
        {
          "output_type": "stream",
          "text": [
            "100%|██████████| 488/488 [00:37<00:00, 12.88it/s]\n"
          ],
          "name": "stderr"
        }
      ]
    },
    {
      "cell_type": "code",
      "metadata": {
        "id": "pCrctVC18tZr",
        "colab_type": "code",
        "outputId": "10f53427-6d47-4c33-c4d5-438ed90661b4",
        "colab": {
          "base_uri": "https://localhost:8080/",
          "height": 676
        }
      },
      "source": [
        "# Формируем выгрузку данных в csv\n",
        "  \n",
        "def overlap(df):\n",
        "    return ((df.cov_1*df.len_1 + df.cov_2*df.len_2)\n",
        "               .divide(df.len_1+df.len_2)\n",
        "               .round(2)\n",
        "               )\n",
        "\n",
        "def add_vars(df, km = lambda i: milages[i]):\n",
        "    return (df.assign(cov=lambda df: df.cov_1 + df.cov_2)\n",
        "              .assign(len_1=lambda df: df.id_1.apply(km))\n",
        "              .assign(len_2=lambda df: df.id_2.apply(km)) \n",
        "              .assign(op=overlap)\n",
        "      )\n",
        "\n",
        "result_df = (\n",
        "      add_vars(pd.DataFrame(result_dicts))\n",
        "      .sort_values(\"cov\", ascending=False)\n",
        "      .head(20)\n",
        "      .reset_index(drop=True)\n",
        "  )  \n",
        "result_df.to_csv(\"output.csv\", index=None)\n",
        "result_df"
      ],
      "execution_count": 30,
      "outputs": [
        {
          "output_type": "execute_result",
          "data": {
            "text/html": [
              "<div>\n",
              "<style scoped>\n",
              "    .dataframe tbody tr th:only-of-type {\n",
              "        vertical-align: middle;\n",
              "    }\n",
              "\n",
              "    .dataframe tbody tr th {\n",
              "        vertical-align: top;\n",
              "    }\n",
              "\n",
              "    .dataframe thead th {\n",
              "        text-align: right;\n",
              "    }\n",
              "</style>\n",
              "<table border=\"1\" class=\"dataframe\">\n",
              "  <thead>\n",
              "    <tr style=\"text-align: right;\">\n",
              "      <th></th>\n",
              "      <th>id_1</th>\n",
              "      <th>id_2</th>\n",
              "      <th>min_dist</th>\n",
              "      <th>max_dist</th>\n",
              "      <th>cov_1</th>\n",
              "      <th>cov_2</th>\n",
              "      <th>cov</th>\n",
              "      <th>len_1</th>\n",
              "      <th>len_2</th>\n",
              "      <th>op</th>\n",
              "    </tr>\n",
              "  </thead>\n",
              "  <tbody>\n",
              "    <tr>\n",
              "      <th>0</th>\n",
              "      <td>16</td>\n",
              "      <td>20</td>\n",
              "      <td>0.003</td>\n",
              "      <td>2.785</td>\n",
              "      <td>1.00</td>\n",
              "      <td>1.00</td>\n",
              "      <td>2.00</td>\n",
              "      <td>28.95</td>\n",
              "      <td>6.73</td>\n",
              "      <td>1.00</td>\n",
              "    </tr>\n",
              "    <tr>\n",
              "      <th>1</th>\n",
              "      <td>13</td>\n",
              "      <td>20</td>\n",
              "      <td>0.023</td>\n",
              "      <td>4.869</td>\n",
              "      <td>1.00</td>\n",
              "      <td>1.00</td>\n",
              "      <td>2.00</td>\n",
              "      <td>30.74</td>\n",
              "      <td>6.73</td>\n",
              "      <td>1.00</td>\n",
              "    </tr>\n",
              "    <tr>\n",
              "      <th>2</th>\n",
              "      <td>23</td>\n",
              "      <td>32</td>\n",
              "      <td>0.012</td>\n",
              "      <td>59.173</td>\n",
              "      <td>1.00</td>\n",
              "      <td>1.00</td>\n",
              "      <td>2.00</td>\n",
              "      <td>136.51</td>\n",
              "      <td>71.29</td>\n",
              "      <td>1.00</td>\n",
              "    </tr>\n",
              "    <tr>\n",
              "      <th>3</th>\n",
              "      <td>13</td>\n",
              "      <td>16</td>\n",
              "      <td>0.026</td>\n",
              "      <td>4.944</td>\n",
              "      <td>1.00</td>\n",
              "      <td>1.00</td>\n",
              "      <td>2.00</td>\n",
              "      <td>30.74</td>\n",
              "      <td>28.95</td>\n",
              "      <td>1.00</td>\n",
              "    </tr>\n",
              "    <tr>\n",
              "      <th>4</th>\n",
              "      <td>8</td>\n",
              "      <td>43</td>\n",
              "      <td>0.004</td>\n",
              "      <td>35.133</td>\n",
              "      <td>1.00</td>\n",
              "      <td>1.00</td>\n",
              "      <td>2.00</td>\n",
              "      <td>138.40</td>\n",
              "      <td>110.82</td>\n",
              "      <td>1.00</td>\n",
              "    </tr>\n",
              "    <tr>\n",
              "      <th>5</th>\n",
              "      <td>9</td>\n",
              "      <td>13</td>\n",
              "      <td>0.007</td>\n",
              "      <td>5.622</td>\n",
              "      <td>1.00</td>\n",
              "      <td>1.00</td>\n",
              "      <td>2.00</td>\n",
              "      <td>54.92</td>\n",
              "      <td>30.74</td>\n",
              "      <td>1.00</td>\n",
              "    </tr>\n",
              "    <tr>\n",
              "      <th>6</th>\n",
              "      <td>9</td>\n",
              "      <td>16</td>\n",
              "      <td>0.036</td>\n",
              "      <td>4.300</td>\n",
              "      <td>1.00</td>\n",
              "      <td>1.00</td>\n",
              "      <td>2.00</td>\n",
              "      <td>54.92</td>\n",
              "      <td>28.95</td>\n",
              "      <td>1.00</td>\n",
              "    </tr>\n",
              "    <tr>\n",
              "      <th>7</th>\n",
              "      <td>11</td>\n",
              "      <td>18</td>\n",
              "      <td>0.282</td>\n",
              "      <td>11.183</td>\n",
              "      <td>1.00</td>\n",
              "      <td>1.00</td>\n",
              "      <td>2.00</td>\n",
              "      <td>27.56</td>\n",
              "      <td>53.84</td>\n",
              "      <td>1.00</td>\n",
              "    </tr>\n",
              "    <tr>\n",
              "      <th>8</th>\n",
              "      <td>0</td>\n",
              "      <td>14</td>\n",
              "      <td>0.004</td>\n",
              "      <td>87.231</td>\n",
              "      <td>0.96</td>\n",
              "      <td>1.00</td>\n",
              "      <td>1.96</td>\n",
              "      <td>524.50</td>\n",
              "      <td>388.86</td>\n",
              "      <td>0.98</td>\n",
              "    </tr>\n",
              "    <tr>\n",
              "      <th>9</th>\n",
              "      <td>9</td>\n",
              "      <td>20</td>\n",
              "      <td>0.034</td>\n",
              "      <td>4.296</td>\n",
              "      <td>0.96</td>\n",
              "      <td>1.00</td>\n",
              "      <td>1.96</td>\n",
              "      <td>54.92</td>\n",
              "      <td>6.73</td>\n",
              "      <td>0.96</td>\n",
              "    </tr>\n",
              "    <tr>\n",
              "      <th>10</th>\n",
              "      <td>0</td>\n",
              "      <td>25</td>\n",
              "      <td>0.010</td>\n",
              "      <td>86.976</td>\n",
              "      <td>0.95</td>\n",
              "      <td>1.00</td>\n",
              "      <td>1.95</td>\n",
              "      <td>524.50</td>\n",
              "      <td>151.84</td>\n",
              "      <td>0.96</td>\n",
              "    </tr>\n",
              "    <tr>\n",
              "      <th>11</th>\n",
              "      <td>16</td>\n",
              "      <td>19</td>\n",
              "      <td>0.035</td>\n",
              "      <td>7.444</td>\n",
              "      <td>1.00</td>\n",
              "      <td>0.91</td>\n",
              "      <td>1.91</td>\n",
              "      <td>28.95</td>\n",
              "      <td>81.38</td>\n",
              "      <td>0.93</td>\n",
              "    </tr>\n",
              "    <tr>\n",
              "      <th>12</th>\n",
              "      <td>13</td>\n",
              "      <td>19</td>\n",
              "      <td>0.017</td>\n",
              "      <td>9.538</td>\n",
              "      <td>1.00</td>\n",
              "      <td>0.91</td>\n",
              "      <td>1.91</td>\n",
              "      <td>30.74</td>\n",
              "      <td>81.38</td>\n",
              "      <td>0.93</td>\n",
              "    </tr>\n",
              "    <tr>\n",
              "      <th>13</th>\n",
              "      <td>9</td>\n",
              "      <td>19</td>\n",
              "      <td>0.029</td>\n",
              "      <td>8.768</td>\n",
              "      <td>1.00</td>\n",
              "      <td>0.91</td>\n",
              "      <td>1.91</td>\n",
              "      <td>54.92</td>\n",
              "      <td>81.38</td>\n",
              "      <td>0.95</td>\n",
              "    </tr>\n",
              "    <tr>\n",
              "      <th>14</th>\n",
              "      <td>14</td>\n",
              "      <td>25</td>\n",
              "      <td>0.002</td>\n",
              "      <td>86.784</td>\n",
              "      <td>0.91</td>\n",
              "      <td>0.97</td>\n",
              "      <td>1.88</td>\n",
              "      <td>388.86</td>\n",
              "      <td>151.84</td>\n",
              "      <td>0.93</td>\n",
              "    </tr>\n",
              "    <tr>\n",
              "      <th>15</th>\n",
              "      <td>21</td>\n",
              "      <td>40</td>\n",
              "      <td>0.009</td>\n",
              "      <td>39.840</td>\n",
              "      <td>1.00</td>\n",
              "      <td>0.87</td>\n",
              "      <td>1.87</td>\n",
              "      <td>91.46</td>\n",
              "      <td>171.13</td>\n",
              "      <td>0.92</td>\n",
              "    </tr>\n",
              "    <tr>\n",
              "      <th>16</th>\n",
              "      <td>3</td>\n",
              "      <td>21</td>\n",
              "      <td>0.003</td>\n",
              "      <td>31.138</td>\n",
              "      <td>1.00</td>\n",
              "      <td>0.84</td>\n",
              "      <td>1.84</td>\n",
              "      <td>120.20</td>\n",
              "      <td>91.46</td>\n",
              "      <td>0.93</td>\n",
              "    </tr>\n",
              "    <tr>\n",
              "      <th>17</th>\n",
              "      <td>17</td>\n",
              "      <td>32</td>\n",
              "      <td>0.033</td>\n",
              "      <td>63.800</td>\n",
              "      <td>0.83</td>\n",
              "      <td>1.00</td>\n",
              "      <td>1.83</td>\n",
              "      <td>202.52</td>\n",
              "      <td>71.29</td>\n",
              "      <td>0.87</td>\n",
              "    </tr>\n",
              "    <tr>\n",
              "      <th>18</th>\n",
              "      <td>17</td>\n",
              "      <td>23</td>\n",
              "      <td>0.004</td>\n",
              "      <td>64.008</td>\n",
              "      <td>0.83</td>\n",
              "      <td>1.00</td>\n",
              "      <td>1.83</td>\n",
              "      <td>202.52</td>\n",
              "      <td>136.51</td>\n",
              "      <td>0.90</td>\n",
              "    </tr>\n",
              "    <tr>\n",
              "      <th>19</th>\n",
              "      <td>19</td>\n",
              "      <td>20</td>\n",
              "      <td>0.033</td>\n",
              "      <td>6.807</td>\n",
              "      <td>0.82</td>\n",
              "      <td>1.00</td>\n",
              "      <td>1.82</td>\n",
              "      <td>81.38</td>\n",
              "      <td>6.73</td>\n",
              "      <td>0.83</td>\n",
              "    </tr>\n",
              "  </tbody>\n",
              "</table>\n",
              "</div>"
            ],
            "text/plain": [
              "    id_1  id_2  min_dist  max_dist  cov_1  cov_2   cov   len_1   len_2    op\n",
              "0     16    20     0.003     2.785   1.00   1.00  2.00   28.95    6.73  1.00\n",
              "1     13    20     0.023     4.869   1.00   1.00  2.00   30.74    6.73  1.00\n",
              "2     23    32     0.012    59.173   1.00   1.00  2.00  136.51   71.29  1.00\n",
              "3     13    16     0.026     4.944   1.00   1.00  2.00   30.74   28.95  1.00\n",
              "4      8    43     0.004    35.133   1.00   1.00  2.00  138.40  110.82  1.00\n",
              "5      9    13     0.007     5.622   1.00   1.00  2.00   54.92   30.74  1.00\n",
              "6      9    16     0.036     4.300   1.00   1.00  2.00   54.92   28.95  1.00\n",
              "7     11    18     0.282    11.183   1.00   1.00  2.00   27.56   53.84  1.00\n",
              "8      0    14     0.004    87.231   0.96   1.00  1.96  524.50  388.86  0.98\n",
              "9      9    20     0.034     4.296   0.96   1.00  1.96   54.92    6.73  0.96\n",
              "10     0    25     0.010    86.976   0.95   1.00  1.95  524.50  151.84  0.96\n",
              "11    16    19     0.035     7.444   1.00   0.91  1.91   28.95   81.38  0.93\n",
              "12    13    19     0.017     9.538   1.00   0.91  1.91   30.74   81.38  0.93\n",
              "13     9    19     0.029     8.768   1.00   0.91  1.91   54.92   81.38  0.95\n",
              "14    14    25     0.002    86.784   0.91   0.97  1.88  388.86  151.84  0.93\n",
              "15    21    40     0.009    39.840   1.00   0.87  1.87   91.46  171.13  0.92\n",
              "16     3    21     0.003    31.138   1.00   0.84  1.84  120.20   91.46  0.93\n",
              "17    17    32     0.033    63.800   0.83   1.00  1.83  202.52   71.29  0.87\n",
              "18    17    23     0.004    64.008   0.83   1.00  1.83  202.52  136.51  0.90\n",
              "19    19    20     0.033     6.807   0.82   1.00  1.82   81.38    6.73  0.83"
            ]
          },
          "metadata": {
            "tags": []
          },
          "execution_count": 30
        }
      ]
    },
    {
      "cell_type": "markdown",
      "metadata": {
        "colab_type": "text",
        "id": "OECWZp3AGdE2"
      },
      "source": [
        "# Графические функции"
      ]
    },
    {
      "cell_type": "code",
      "metadata": {
        "id": "SsmaYbE08taR",
        "colab_type": "code",
        "colab": {}
      },
      "source": [
        "\"\"\"Графические функции для отрисовки треков\"\"\"\n",
        "\n",
        "import matplotlib.pyplot as plt\n",
        "from matplotlib import cm\n",
        "\n",
        "\n",
        "def get_color(i, n):\n",
        "    if n <= 10:\n",
        "        cmap = cm.get_cmap(name=\"tab10\")\n",
        "        return cmap(i)\n",
        "    else:\n",
        "        cmap = cm.get_cmap(name=\"jet\")\n",
        "        return cmap(i / n)\n",
        "\n",
        "\n",
        "def yield_route_and_color(routes):\n",
        "    n = len(routes)\n",
        "    for i, r in enumerate(routes):\n",
        "        col = get_color(i, n)\n",
        "        yield r, col\n",
        "\n",
        "\n",
        "def make_plotter(axis_plotter_func):\n",
        "    def plotter(routes, ax=None, title=\"\"):\n",
        "        if ax is None:\n",
        "            f, ax = plt.subplots()\n",
        "        n = len(routes)\n",
        "        for i, r in enumerate(routes):\n",
        "            col = get_color(i, n)\n",
        "            axis_plotter_func(ax, r, col)\n",
        "        ax.set_title(title)\n",
        "        return ax\n",
        "\n",
        "    return plotter\n",
        "\n",
        "\n",
        "def scatter(ax, route, col):\n",
        "    ax.scatter(x=route.lon, y=route.lat, s=0.5, alpha=0.8, color=col)\n",
        "\n",
        "\n",
        "def segments(ax, route, col):\n",
        "    ax.plot(route.lon, route.lat, lw=1, alpha=0.8, linestyle=\":\", color=col)\n",
        "\n",
        "\n",
        "plot_points = make_plotter(scatter)\n",
        "plot_connections = make_plotter(segments)\n",
        "\n",
        "\n",
        "def plot_points_and_connections(routes, title=\"\", ax=None):\n",
        "    ax = plot_points(routes, ax)\n",
        "    plot_connections(routes, ax)\n",
        "\n",
        "\n",
        "def plot_raw_and_reduced(f1, f2, r1, r2, title=\"Общий заголовок\"):\n",
        "    fig, (ax1, ax2) = plt.subplots(\n",
        "        nrows=1, ncols=2, figsize=(10, 4), sharex=True, sharey=True\n",
        "    )\n",
        "    plot_points_and_connections([f1, f2], ax=ax1, title=\"Исходные треки\")\n",
        "    plot_points_and_connections([r1, r2], ax=ax2, title=\"Упрощенные треки\")\n",
        "    plt.suptitle(title)\n",
        "\n",
        "\n",
        "def plot_two(routes, i: int, j: int, simplify_with=None, title=\"\"):\n",
        "    \"\"\"Отрисовка пары маршрутов по индексам в выборке.\"\"\"\n",
        "    f1, f2 = routes[i], routes[j]\n",
        "    if simplify_with:\n",
        "        r1, r2 = simplify_with(f1), simplify_with(f2)\n",
        "    else:\n",
        "        r1, r2 = f1, f2\n",
        "    title = f\"Поездки {i} и {j}\"\n",
        "    plot_raw_and_reduced(f1, f2, r1, r2, title)\n",
        "\n",
        "\n",
        "def plot_one(route):      \n",
        "    return plot_points([route])\n",
        "            "
      ],
      "execution_count": 0,
      "outputs": []
    },
    {
      "cell_type": "markdown",
      "metadata": {
        "colab_type": "text",
        "id": "HHU0lkdVHgxX"
      },
      "source": [
        "## Пример"
      ]
    },
    {
      "cell_type": "code",
      "metadata": {
        "id": "xs3Xm9yH8tad",
        "colab_type": "code",
        "outputId": "9e556f49-21c7-40b3-c2b0-cb37260755be",
        "colab": {
          "base_uri": "https://localhost:8080/",
          "height": 323
        }
      },
      "source": [
        "plot_two(routes, 32, 46, distance_increment(1))\n",
        "milages[32], milages[46]"
      ],
      "execution_count": 32,
      "outputs": [
        {
          "output_type": "error",
          "ename": "IndexError",
          "evalue": "ignored",
          "traceback": [
            "\u001b[0;31m---------------------------------------------------------------------------\u001b[0m",
            "\u001b[0;31mIndexError\u001b[0m                                Traceback (most recent call last)",
            "\u001b[0;32m<ipython-input-32-0d658325f715>\u001b[0m in \u001b[0;36m<module>\u001b[0;34m()\u001b[0m\n\u001b[0;32m----> 1\u001b[0;31m \u001b[0mplot_two\u001b[0m\u001b[0;34m(\u001b[0m\u001b[0mroutes\u001b[0m\u001b[0;34m,\u001b[0m \u001b[0;36m32\u001b[0m\u001b[0;34m,\u001b[0m \u001b[0;36m46\u001b[0m\u001b[0;34m,\u001b[0m \u001b[0mdistance_increment\u001b[0m\u001b[0;34m(\u001b[0m\u001b[0;36m1\u001b[0m\u001b[0;34m)\u001b[0m\u001b[0;34m)\u001b[0m\u001b[0;34m\u001b[0m\u001b[0;34m\u001b[0m\u001b[0m\n\u001b[0m\u001b[1;32m      2\u001b[0m \u001b[0mmilages\u001b[0m\u001b[0;34m[\u001b[0m\u001b[0;36m32\u001b[0m\u001b[0;34m]\u001b[0m\u001b[0;34m,\u001b[0m \u001b[0mmilages\u001b[0m\u001b[0;34m[\u001b[0m\u001b[0;36m46\u001b[0m\u001b[0;34m]\u001b[0m\u001b[0;34m\u001b[0m\u001b[0;34m\u001b[0m\u001b[0m\n",
            "\u001b[0;32m<ipython-input-31-fd0106e960a2>\u001b[0m in \u001b[0;36mplot_two\u001b[0;34m(routes, i, j, simplify_with, title)\u001b[0m\n\u001b[1;32m     63\u001b[0m \u001b[0;32mdef\u001b[0m \u001b[0mplot_two\u001b[0m\u001b[0;34m(\u001b[0m\u001b[0mroutes\u001b[0m\u001b[0;34m,\u001b[0m \u001b[0mi\u001b[0m\u001b[0;34m:\u001b[0m \u001b[0mint\u001b[0m\u001b[0;34m,\u001b[0m \u001b[0mj\u001b[0m\u001b[0;34m:\u001b[0m \u001b[0mint\u001b[0m\u001b[0;34m,\u001b[0m \u001b[0msimplify_with\u001b[0m\u001b[0;34m=\u001b[0m\u001b[0;32mNone\u001b[0m\u001b[0;34m,\u001b[0m \u001b[0mtitle\u001b[0m\u001b[0;34m=\u001b[0m\u001b[0;34m\"\"\u001b[0m\u001b[0;34m)\u001b[0m\u001b[0;34m:\u001b[0m\u001b[0;34m\u001b[0m\u001b[0;34m\u001b[0m\u001b[0m\n\u001b[1;32m     64\u001b[0m     \u001b[0;34m\"\"\"Отрисовка пары маршрутов по индексам в выборке.\"\"\"\u001b[0m\u001b[0;34m\u001b[0m\u001b[0;34m\u001b[0m\u001b[0m\n\u001b[0;32m---> 65\u001b[0;31m     \u001b[0mf1\u001b[0m\u001b[0;34m,\u001b[0m \u001b[0mf2\u001b[0m \u001b[0;34m=\u001b[0m \u001b[0mroutes\u001b[0m\u001b[0;34m[\u001b[0m\u001b[0mi\u001b[0m\u001b[0;34m]\u001b[0m\u001b[0;34m,\u001b[0m \u001b[0mroutes\u001b[0m\u001b[0;34m[\u001b[0m\u001b[0mj\u001b[0m\u001b[0;34m]\u001b[0m\u001b[0;34m\u001b[0m\u001b[0;34m\u001b[0m\u001b[0m\n\u001b[0m\u001b[1;32m     66\u001b[0m     \u001b[0;32mif\u001b[0m \u001b[0msimplify_with\u001b[0m\u001b[0;34m:\u001b[0m\u001b[0;34m\u001b[0m\u001b[0;34m\u001b[0m\u001b[0m\n\u001b[1;32m     67\u001b[0m         \u001b[0mr1\u001b[0m\u001b[0;34m,\u001b[0m \u001b[0mr2\u001b[0m \u001b[0;34m=\u001b[0m \u001b[0msimplify_with\u001b[0m\u001b[0;34m(\u001b[0m\u001b[0mf1\u001b[0m\u001b[0;34m)\u001b[0m\u001b[0;34m,\u001b[0m \u001b[0msimplify_with\u001b[0m\u001b[0;34m(\u001b[0m\u001b[0mf2\u001b[0m\u001b[0;34m)\u001b[0m\u001b[0;34m\u001b[0m\u001b[0;34m\u001b[0m\u001b[0m\n",
            "\u001b[0;31mIndexError\u001b[0m: list index out of range"
          ]
        }
      ]
    }
  ]
}